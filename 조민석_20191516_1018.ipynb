{
 "cells": [
  {
   "cell_type": "markdown",
   "id": "1b216918",
   "metadata": {},
   "source": [
    "# 2022년 10월 18일 파이썬 실습 7주차-2\n",
    "# 학번 : 20191516\n",
    "# 이름 : 조민석"
   ]
  },
  {
   "cell_type": "markdown",
   "id": "3a624f8f",
   "metadata": {},
   "source": [
    "### Code07-05.py 큐가 비었는지 체크하는 함수"
   ]
  },
  {
   "cell_type": "code",
   "execution_count": 1,
   "id": "4df6061e",
   "metadata": {},
   "outputs": [
    {
     "name": "stdout",
     "output_type": "stream",
     "text": [
      "큐가 비었는지 여부 ==> True\n"
     ]
    }
   ],
   "source": [
    "def isQueueEmpty():\n",
    "    global SIZE, queue, front, rear\n",
    "    if (front == rear):\n",
    "        return True\n",
    "    else:\n",
    "        return False\n",
    "\n",
    "SIZE = 5\n",
    "queue = [None for _ in range(SIZE)]\n",
    "front = rear = -1\n",
    "\n",
    "print(\"큐가 비었는지 여부 ==>\", isQueueEmpty())"
   ]
  },
  {
   "cell_type": "markdown",
   "id": "23c388ae",
   "metadata": {},
   "source": [
    "### Code07-06.py 큐에서 데이터를 추출하는 함수"
   ]
  },
  {
   "cell_type": "code",
   "execution_count": 2,
   "id": "b8b1d5dd",
   "metadata": {},
   "outputs": [
    {
     "name": "stdout",
     "output_type": "stream",
     "text": [
      "['화사', None, None, None, None]\n",
      "추출한 데이터 --> 화사\n",
      "[None, None, None, None, None]\n",
      "큐가 비었습니다.\n"
     ]
    }
   ],
   "source": [
    "def isQueueEmpty():\n",
    "    global SIZE, queue, front, rear\n",
    "    if (front == rear):\n",
    "        return True\n",
    "    else:\n",
    "        return False\n",
    "    \n",
    "def deQueue():\n",
    "    global SIZE, queue, front, rear\n",
    "    if (isQueueEmpty()):\n",
    "        print(\"큐가 비었습니다.\")\n",
    "        return None\n",
    "    front += 1\n",
    "    data = queue[front]\n",
    "    queue[front] = None\n",
    "    return data\n",
    "\n",
    "SIZE = 5\n",
    "queue = [\"화사\", None, None, None, None]\n",
    "front = -1\n",
    "rear = 0\n",
    "\n",
    "print(queue)\n",
    "retData = deQueue()\n",
    "print(\"추출한 데이터 -->\", retData)\n",
    "print(queue)\n",
    "retData = deQueue()"
   ]
  },
  {
   "cell_type": "markdown",
   "id": "cc973ef4",
   "metadata": {},
   "source": [
    "### SELF STUDY 7-2"
   ]
  },
  {
   "cell_type": "code",
   "execution_count": 3,
   "id": "7115b480",
   "metadata": {},
   "outputs": [
    {
     "name": "stdout",
     "output_type": "stream",
     "text": [
      "['화사', None, None, None, None]\n",
      "추출한 데이터 --> 화사\n",
      "[None, None, None, None, None]\n",
      "큐가 비었습니다.\n"
     ]
    }
   ],
   "source": [
    "def deQueue():\n",
    "    global SIZE, queue, front, rear\n",
    "    if (front == rear):\n",
    "        print(\"큐가 비었습니다.\")\n",
    "        return None\n",
    "    front += 1\n",
    "    data = queue[front]\n",
    "    queue[front] = None\n",
    "    return data\n",
    "\n",
    "SIZE = 5\n",
    "queue = [\"화사\", None, None, None, None]\n",
    "front = -1\n",
    "rear = 0\n",
    "\n",
    "print(queue)\n",
    "retData = deQueue()\n",
    "print(\"추출한 데이터 -->\", retData)\n",
    "print(queue)\n",
    "retData = deQueue()"
   ]
  },
  {
   "cell_type": "markdown",
   "id": "081d4c35",
   "metadata": {},
   "source": [
    "### Code07-07.py 큐에서 front+1 위치의 데이터를 확인하는 함수"
   ]
  },
  {
   "cell_type": "code",
   "execution_count": 4,
   "id": "c97bba58",
   "metadata": {},
   "outputs": [
    {
     "name": "stdout",
     "output_type": "stream",
     "text": [
      "['화사', '솔라', '문별', None, None]\n",
      "다음에 추출될 데이터 확인 --> 화사\n",
      "['화사', '솔라', '문별', None, None]\n"
     ]
    }
   ],
   "source": [
    "def isQueueEmpty():\n",
    "    global SIZE, queue, front, rear\n",
    "    if (front == rear):\n",
    "        return True\n",
    "    else:\n",
    "        return False\n",
    "    \n",
    "def peek():\n",
    "    global SIZE, queue, front, rear\n",
    "    if (isQueueEmpty()):\n",
    "        print(\"큐가 비었습니다.\")\n",
    "        return None\n",
    "    return queue[front+1]\n",
    "\n",
    "SIZE = 5\n",
    "queue = [\"화사\", \"솔라\", \"문별\", None, None]\n",
    "front = -1\n",
    "rear = 2\n",
    "\n",
    "print(queue)\n",
    "retData = peek()\n",
    "print(\"다음에 추출될 데이터 확인 -->\", retData)\n",
    "print(queue)"
   ]
  },
  {
   "cell_type": "markdown",
   "id": "2a8de92f",
   "metadata": {},
   "source": [
    "### Code07-08.py 큐 작동을 위한 통합 코드"
   ]
  },
  {
   "cell_type": "code",
   "execution_count": 5,
   "id": "033c21e2",
   "metadata": {},
   "outputs": [
    {
     "name": "stdout",
     "output_type": "stream",
     "text": [
      "큐 크기를 입력하세요 ==> 5\n",
      "삽입(I)/추출(E)/확인(V)/종료(X) 중 하나를 선택 ==>I\n",
      "입력할 데이터 ==> 화사\n",
      "큐 사태 :  ['화사', None, None, None, None]\n",
      "삽입(I)/추출(E)/확인(V)/종료(X) 중 하나를 선택 ==> I\n",
      "입력할 데이터 ==> 솔라\n",
      "큐 사태 :  ['화사', '솔라', None, None, None]\n",
      "삽입(I)/추출(E)/확인(V)/종료(X) 중 하나를 선택 ==> I\n",
      "입력할 데이터 ==> 문별\n",
      "큐 사태 :  ['화사', '솔라', '문별', None, None]\n",
      "삽입(I)/추출(E)/확인(V)/종료(X) 중 하나를 선택 ==> E\n",
      "추출된 데이터 ==>  화사\n",
      "큐 상태 :  [None, '솔라', '문별', None, None]\n",
      "삽입(I)/추출(E)/확인(V)/종료(X) 중 하나를 선택 ==> E\n",
      "추출된 데이터 ==>  솔라\n",
      "큐 상태 :  [None, None, '문별', None, None]\n",
      "삽입(I)/추출(E)/확인(V)/종료(X) 중 하나를 선택 ==> E\n",
      "추출된 데이터 ==>  문별\n",
      "큐 상태 :  [None, None, None, None, None]\n",
      "삽입(I)/추출(E)/확인(V)/종료(X) 중 하나를 선택 ==> E\n",
      "큐가 비었습니다.\n",
      "추출된 데이터 ==>  None\n",
      "큐 상태 :  [None, None, None, None, None]\n",
      "삽입(I)/추출(E)/확인(V)/종료(X) 중 하나를 선택 ==> X\n",
      "프로그램 종료!\n"
     ]
    }
   ],
   "source": [
    "## 함수 선언 부분 ##\n",
    "def isQueueFull():                  # 큐가 꽉 찼는지 확인하는 함수\n",
    "    global SIZE, queue, front, rear\n",
    "    if (rear == SIZE - 1):\n",
    "        return True\n",
    "    else:\n",
    "        return False\n",
    "    \n",
    "def isQueueEmpty():                 # 큐가 비었는지 확인하는 함수\n",
    "    global SIZE, queue, front, rear\n",
    "    if (front == rear):\n",
    "        return True\n",
    "    else:\n",
    "        return False\n",
    "    \n",
    "def enQueue(data):                  # 큐에 데이터를 삽입하는 함수\n",
    "    global SIZE, queue, front, rear\n",
    "    if (isQueueFull()):\n",
    "        print(\"큐가 꽉 찼습니다.\")\n",
    "        return\n",
    "    rear += 1\n",
    "    queue[rear] = data\n",
    "    \n",
    "def deQueue() :                     # 큐에서 데이터를 추출하는 함수\n",
    "    global SIZE, queue, front, rear\n",
    "    if (isQueueEmpty()):\n",
    "        print(\"큐가 비었습니다.\")\n",
    "        return None\n",
    "    front += 1\n",
    "    data = queue[front]\n",
    "    queue[front] = None\n",
    "    return data\n",
    "\n",
    "def peek():                        # 큐에서 front+1 위치의 데이터를 확인하는 함수\n",
    "    global SIZE, queue, front, rear\n",
    "    if (isQueueEmpty()):\n",
    "        print(\"큐가 비었습니다.\")\n",
    "        return None\n",
    "    return queue[front+1]\n",
    "\n",
    "## 전역 변수 선언 부분 ##\n",
    "SIZE = int(input(\"큐 크기를 입력하세요 ==> \"))\n",
    "queue = [None for _ in range(SIZE)]\n",
    "front = rear = -1\n",
    "\n",
    "## 메인 코드 부분 ##\n",
    "if __name__ == \"__main__\":\n",
    "    select = input(\"삽입(I)/추출(E)/확인(V)/종료(X) 중 하나를 선택 ==>\")\n",
    "    \n",
    "    while (select != 'X' and select != 'x'):\n",
    "        if select == 'I' or select == 'i':\n",
    "            data = input(\"입력할 데이터 ==> \")\n",
    "            enQueue(data)\n",
    "            print(\"큐 사태 : \", queue)\n",
    "        elif select == 'E' or select == 'e':\n",
    "            data = deQueue()\n",
    "            print(\"추출된 데이터 ==> \", data)\n",
    "            print(\"큐 상태 : \", queue)\n",
    "        elif select == 'V' or select == 'v':\n",
    "            data = peek()\n",
    "            print(\"확인된 데이터 ==> \",data)\n",
    "            print(\"큐 상태 : \", queue)\n",
    "        else:\n",
    "            print(\"입력이 잘못됨\")\n",
    "            \n",
    "        select = input(\"삽입(I)/추출(E)/확인(V)/종료(X) 중 하나를 선택 ==> \")\n",
    "        \n",
    "    print(\"프로그램 종료!\")"
   ]
  }
 ],
 "metadata": {
  "kernelspec": {
   "display_name": "Python 3 (ipykernel)",
   "language": "python",
   "name": "python3"
  },
  "language_info": {
   "codemirror_mode": {
    "name": "ipython",
    "version": 3
   },
   "file_extension": ".py",
   "mimetype": "text/x-python",
   "name": "python",
   "nbconvert_exporter": "python",
   "pygments_lexer": "ipython3",
   "version": "3.9.12"
  }
 },
 "nbformat": 4,
 "nbformat_minor": 5
}
