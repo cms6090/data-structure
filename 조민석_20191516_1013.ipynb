{
 "cells": [
  {
   "cell_type": "markdown",
   "id": "1b216918",
   "metadata": {},
   "source": [
    "# 2022년 10월 13일 파이썬 실습 7주차-1\n",
    "# 학번 : 20191516\n",
    "# 이름 : 조민석"
   ]
  },
  {
   "cell_type": "markdown",
   "id": "9a82a2e2",
   "metadata": {},
   "source": [
    "## 연습문제\n",
    "### 1. 4\n",
    "### 2. top, push, pop\n",
    "### 3. top += 1, top -= 1\n",
    "### 4. 2\n",
    "### 5. 2\n",
    "### 6. return None, return stack[top]"
   ]
  },
  {
   "cell_type": "markdown",
   "id": "2d3f9d5b",
   "metadata": {},
   "source": [
    "### Code07-01.py 크기가 5칸인 큐의 생성과 데이터 3개 입력"
   ]
  },
  {
   "cell_type": "code",
   "execution_count": 1,
   "id": "f6f34a18",
   "metadata": {},
   "outputs": [
    {
     "name": "stdout",
     "output_type": "stream",
     "text": [
      "----- 큐 상태 -----\n",
      "[출구] <-- 화사 솔라 문별 None None <-- [입구]\n"
     ]
    }
   ],
   "source": [
    "queue = [None ,None, None, None, None]\n",
    "front = rear = -1\n",
    "\n",
    "rear += 1\n",
    "queue[rear] = \"화사\"\n",
    "rear += 1\n",
    "queue[rear] = \"솔라\"\n",
    "rear += 1\n",
    "queue[rear] = \"문별\"\n",
    "\n",
    "print(\"----- 큐 상태 -----\")\n",
    "print('[출구] <--', end = ' ')\n",
    "for i in range(0, len(queue), 1):\n",
    "    print(queue[i], end = ' ')\n",
    "print('<-- [입구]')"
   ]
  },
  {
   "cell_type": "markdown",
   "id": "40a3e72d",
   "metadata": {},
   "source": [
    "### Code07-02.py 큐에서 데이터 3개 추출"
   ]
  },
  {
   "cell_type": "code",
   "execution_count": 2,
   "id": "c7f53365",
   "metadata": {},
   "outputs": [
    {
     "name": "stdout",
     "output_type": "stream",
     "text": [
      "----- 큐 상태 -----\n",
      "[출구] <-- 화사 None <-- [입구]\n",
      "-------------------\n",
      "deQueue -->  화사\n",
      "deQueue -->  솔라\n",
      "deQueue -->  문별\n",
      "-------------------\n",
      "----- 큐 상태 -----\n",
      "[출구] <--  None None None None None <-- [입구]\n"
     ]
    }
   ],
   "source": [
    "queue =[\"화사\", \"솔라\", \"문별\", None, None]\n",
    "front = -1\n",
    "rear = 2\n",
    "\n",
    "print(\"----- 큐 상태 -----\")\n",
    "print('[출구] <--', end = ' ')\n",
    "for i in range(0, len(queue), i):\n",
    "    print(queue[i], end = ' ')\n",
    "print('<-- [입구]')\n",
    "print(\"-------------------\")\n",
    "\n",
    "front += 1\n",
    "data = queue[front]\n",
    "queue[front] = None\n",
    "print('deQueue --> ', data)\n",
    "\n",
    "front += 1\n",
    "data = queue[front]\n",
    "queue[front] = None\n",
    "print('deQueue --> ', data)\n",
    "\n",
    "front += 1\n",
    "data = queue[front]\n",
    "queue[front] = None\n",
    "print('deQueue --> ', data)\n",
    "print(\"-------------------\")\n",
    "\n",
    "print(\"----- 큐 상태 -----\")\n",
    "print('[출구] <-- ', end = ' ')\n",
    "for i in range(0, len(queue), 1):\n",
    "    print(queue[i], end = ' ')\n",
    "print('<-- [입구]')"
   ]
  },
  {
   "cell_type": "markdown",
   "id": "0d291ffa",
   "metadata": {},
   "source": [
    "### Code07-03.py 큐가 꽉 찬 상태"
   ]
  },
  {
   "cell_type": "code",
   "execution_count": 3,
   "id": "ee933d31",
   "metadata": {},
   "outputs": [
    {
     "name": "stdout",
     "output_type": "stream",
     "text": [
      "큐가 꽉 찼는지 여부 ==> True\n"
     ]
    }
   ],
   "source": [
    "def isQueueFull():\n",
    "    global SIZE, queue, front, rear\n",
    "    if (rear == SIZE - 1):\n",
    "        return True\n",
    "    else:\n",
    "        return False\n",
    "    \n",
    "SIZE = 5\n",
    "queue = [\"화사\", \"솔라\", \"문별\", \"휘인\", \"선미\"]\n",
    "front = -1\n",
    "rear = 4\n",
    "\n",
    "print(\"큐가 꽉 찼는지 여부 ==>\", isQueueFull())"
   ]
  },
  {
   "cell_type": "markdown",
   "id": "13ee228a",
   "metadata": {},
   "source": [
    "### Code07-04.py 큐에 데이터를 삽입하는 함수"
   ]
  },
  {
   "cell_type": "code",
   "execution_count": 4,
   "id": "091e3ff0",
   "metadata": {},
   "outputs": [
    {
     "name": "stdout",
     "output_type": "stream",
     "text": [
      "['화사', '솔라', '문별', '휘인', None]\n",
      "['화사', '솔라', '문별', '휘인', '선미']\n",
      "큐가 꽉 찼습니다.\n"
     ]
    }
   ],
   "source": [
    "def isQueueFull():\n",
    "    global SIZE, queue, front, rear\n",
    "    if (rear == SIZE - 1):\n",
    "        return True\n",
    "    else:\n",
    "        return False\n",
    "    \n",
    "def enQueue(data):\n",
    "    global SIZE, queue, front, rear\n",
    "    if (isQueueFull()):\n",
    "        print(\"큐가 꽉 찼습니다.\")\n",
    "        return\n",
    "    rear += 1\n",
    "    queue[rear] = data\n",
    "    \n",
    "SIZE = 5\n",
    "queue = [\"화사\", \"솔라\", \"문별\", \"휘인\", None]\n",
    "front = -1\n",
    "rear = 3\n",
    "\n",
    "print(queue)\n",
    "enQueue(\"선미\")\n",
    "print(queue)\n",
    "enQueue(\"재남\")"
   ]
  },
  {
   "cell_type": "markdown",
   "id": "2c560497",
   "metadata": {},
   "source": [
    "### SELF STUDY 7-1"
   ]
  },
  {
   "cell_type": "code",
   "execution_count": 5,
   "id": "f35cf4d9",
   "metadata": {},
   "outputs": [
    {
     "name": "stdout",
     "output_type": "stream",
     "text": [
      "['화사', '솔라', '문별', '휘인', None]\n",
      "['화사', '솔라', '문별', '휘인', '선미']\n",
      "큐가 꽉 찼습니다.\n"
     ]
    }
   ],
   "source": [
    "def enQueue(data):\n",
    "    global SIZE, queue, front, rear\n",
    "    if (rear == SIZE - 1):\n",
    "        print(\"큐가 꽉 찼습니다.\")\n",
    "        return\n",
    "    rear += 1\n",
    "    queue[rear] = data\n",
    "    \n",
    "SIZE = 5\n",
    "queue = [\"화사\", \"솔라\", \"문별\", \"휘인\", None]\n",
    "front = -1\n",
    "rear = 3\n",
    "\n",
    "print(queue)\n",
    "enQueue(\"선미\")\n",
    "print(queue)\n",
    "enQueue(\"재남\")"
   ]
  }
 ],
 "metadata": {
  "kernelspec": {
   "display_name": "Python 3 (ipykernel)",
   "language": "python",
   "name": "python3"
  },
  "language_info": {
   "codemirror_mode": {
    "name": "ipython",
    "version": 3
   },
   "file_extension": ".py",
   "mimetype": "text/x-python",
   "name": "python",
   "nbconvert_exporter": "python",
   "pygments_lexer": "ipython3",
   "version": "3.9.12"
  }
 },
 "nbformat": 4,
 "nbformat_minor": 5
}
