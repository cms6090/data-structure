{
 "cells": [
  {
   "cell_type": "markdown",
   "id": "fa8304ae",
   "metadata": {},
   "source": [
    "# 2022년 12월 1일 파이썬 실습 14주차-1\n",
    "# 학번 : 20191516\n",
    "# 이름 : 조민석"
   ]
  },
  {
   "cell_type": "markdown",
   "id": "6be20ebe",
   "metadata": {},
   "source": [
    "### Code10-13.py 3단계의 프랙탈 원 그리기"
   ]
  },
  {
   "cell_type": "code",
   "execution_count": 1,
   "id": "7bdc53cb",
   "metadata": {},
   "outputs": [],
   "source": [
    "from tkinter import *\n",
    "\n",
    "## 클래스와 함수 선언 부분 ##\n",
    "def drawCircle(x, y, r):\n",
    "    global count\n",
    "    count += 1\n",
    "    canvas.create_oval(x-r, y-r, x+r, y+r)\n",
    "    canvas.create_text(x, y-r, text = str(count), font = ('', 30))\n",
    "    if r >= radius/2:\n",
    "        drawCircle(x-r//2, y, r//2)\n",
    "        drawCircle(x+r//2, y, r//2)\n",
    "        \n",
    "## 전역 변수 선언 부분 ##\n",
    "count = 0\n",
    "wSize = 1000\n",
    "radius = 400\n",
    "\n",
    "## 메인 코드 부분 ##\n",
    "window = Tk()\n",
    "canvas = Canvas(window, height=wSize, width=wSize, bg = 'white')\n",
    "\n",
    "drawCircle(wSize//2, wSize//2, radius)\n",
    "\n",
    "canvas.pack()\n",
    "window.mainloop()"
   ]
  },
  {
   "cell_type": "markdown",
   "id": "5aacab11",
   "metadata": {},
   "source": [
    "### Code10-14.py 전체 프랙탈 원 그리기"
   ]
  },
  {
   "cell_type": "code",
   "execution_count": 2,
   "id": "e7158471",
   "metadata": {},
   "outputs": [],
   "source": [
    "from tkinter import *\n",
    "import random\n",
    "\n",
    "## 클래스와 함수 선언 부분 ##\n",
    "def drawCircle(x, y, r):\n",
    "    canvas.create_oval(x-r, y-r, x+r, y+r, width=2, outline=random.choice(colors))\n",
    "    if r >= 5:\n",
    "        drawCircle(x+r//2, y, r//2)\n",
    "        drawCircle(x-r//2, y, r//2)\n",
    "        \n",
    "## 전역 변수 선언 부분 ##\n",
    "colors = [\"red\", \"green\", \"blue\", \"black\", \"orange\", \"indigo\", \"violet\"]\n",
    "wSize = 1000\n",
    "radius = 400\n",
    "\n",
    "## 메인 코드 부분 ##\n",
    "window = Tk()\n",
    "window.title(\"원 모양의 프랙탈\")\n",
    "canvas = Canvas(window, height=wSize, width=wSize, bg = 'white')\n",
    "\n",
    "drawCircle(wSize//2, wSize//2, radius)\n",
    "\n",
    "canvas.pack()\n",
    "window.mainloop()"
   ]
  },
  {
   "cell_type": "markdown",
   "id": "77e18d5a",
   "metadata": {},
   "source": [
    "### 응용예제01. 진수 변환하기"
   ]
  },
  {
   "cell_type": "code",
   "execution_count": 3,
   "id": "42a572c9",
   "metadata": {},
   "outputs": [
    {
     "name": "stdout",
     "output_type": "stream",
     "text": [
      "10진수 입력 --> 65535\n",
      "\n",
      " 2진수 :  1 1 1 1 1 1 1 1 1 1 1 1 1 1 1 1 \n",
      " 8진수 :  1 7 7 7 7 7 \n",
      " 16진수 :  F F F F "
     ]
    }
   ],
   "source": [
    "## 클래스와 함수 선언 부분 ##\n",
    "def notation(base, n):\n",
    "    if n < base:\n",
    "        print(numberChar[n], end = ' ')\n",
    "    else:\n",
    "        notation(base, n // base)\n",
    "        print(numberChar[n % base], end = ' ')\n",
    "        \n",
    "## 전역 변수 선언 부분 ##\n",
    "numberChar = ['0', '1', '2', '3', '4', '5', '6', '7', '8', '9']\n",
    "numberChar += ['A', 'B', 'C', 'D', 'E', 'F']\n",
    "\n",
    "## 메인 코드 부분 ##\n",
    "number = int(input('10진수 입력 --> '))\n",
    "print('\\n 2진수 : ', end = ' ')\n",
    "notation(2, number)\n",
    "print('\\n 8진수 : ', end = ' ')\n",
    "notation(8, number)\n",
    "print('\\n 16진수 : ', end = ' ')\n",
    "notation(16, number)"
   ]
  },
  {
   "cell_type": "markdown",
   "id": "c0bd93f4",
   "metadata": {},
   "source": [
    "### 응용예제02. 시에르핀스키 삼각형 그리기"
   ]
  },
  {
   "cell_type": "code",
   "execution_count": 4,
   "id": "bc87f16a",
   "metadata": {},
   "outputs": [],
   "source": [
    "from tkinter import *\n",
    "\n",
    "## 클래스와 함수 선언 부분 ##\n",
    "def drawTriangle(x, y, size):\n",
    "    if size >= 30:\n",
    "        drawTriangle(x, y, size/2)    # 왼쪽 아래 작은 삼각형\n",
    "        drawTriangle(x+size/2, y, size/2)    # 오른쪽 아래 작은 삼각형\n",
    "        drawTriangle(x+size/4, int(y-size*(3**0.5)/4), size/2)    # 위쪽 작은 삼각형\n",
    "    else:\n",
    "        canvas.create_polygon(x, y, x+size, y, x+size/2, y-size*(3**0.5)/2, fill='red', outline='red')\n",
    "    \n",
    "## 전역 변수 선언 부분 ##\n",
    "wSize = 1000\n",
    "radius = 400\n",
    "\n",
    "## 메인 코드 부분 ##\n",
    "window = Tk()\n",
    "window.title(\"삼각형 모양의 프랙탈\")\n",
    "canvas = Canvas(window, height=wSize, width=wSize, bg='white')\n",
    "\n",
    "drawTriangle(wSize/5, wSize/5*4, wSize*2/3)\n",
    "\n",
    "canvas.pack()\n",
    "window.mainloop()"
   ]
  }
 ],
 "metadata": {
  "kernelspec": {
   "display_name": "Python 3 (ipykernel)",
   "language": "python",
   "name": "python3"
  },
  "language_info": {
   "codemirror_mode": {
    "name": "ipython",
    "version": 3
   },
   "file_extension": ".py",
   "mimetype": "text/x-python",
   "name": "python",
   "nbconvert_exporter": "python",
   "pygments_lexer": "ipython3",
   "version": "3.9.12"
  }
 },
 "nbformat": 4,
 "nbformat_minor": 5
}
