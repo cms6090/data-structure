{
 "cells": [
  {
   "cell_type": "markdown",
   "id": "e7ddfa5d",
   "metadata": {},
   "source": [
    "# 2022년 9월 8일 파이썬 실습 3주차-2\n",
    "# 학번 : 20191516\n",
    "# 이름 : 조민석"
   ]
  },
  {
   "cell_type": "code",
   "execution_count": 2,
   "id": "43bbe1ba",
   "metadata": {},
   "outputs": [],
   "source": [
    "class Node():\n",
    "    def __init__(self):\n",
    "        self.data = None\n",
    "        self.link = None"
   ]
  },
  {
   "cell_type": "code",
   "execution_count": 3,
   "id": "2ff8a575",
   "metadata": {},
   "outputs": [
    {
     "name": "stdout",
     "output_type": "stream",
     "text": [
      "다현"
     ]
    }
   ],
   "source": [
    "node1 = Node()\n",
    "node1.data = \"다현\"\n",
    "print(node1.data, end = '')"
   ]
  },
  {
   "cell_type": "code",
   "execution_count": 4,
   "id": "75e8b53c",
   "metadata": {},
   "outputs": [],
   "source": [
    "node2 = Node()\n",
    "node2.daa = \"정연\"\n",
    "node1.link = node2"
   ]
  },
  {
   "cell_type": "markdown",
   "id": "4277bbba",
   "metadata": {},
   "source": [
    "### Code04-01.py 데이터가 5개인 단순 연결 리스트 생성"
   ]
  },
  {
   "cell_type": "code",
   "execution_count": 13,
   "id": "ee048a68",
   "metadata": {},
   "outputs": [
    {
     "name": "stdout",
     "output_type": "stream",
     "text": [
      "다현 정연 쯔위 사나 지효 "
     ]
    }
   ],
   "source": [
    "class Node():\n",
    "    def __init__(self):\n",
    "        self.data = None\n",
    "        self.link = None\n",
    "        \n",
    "node1 = Node()\n",
    "node1.data = \"다현\"\n",
    "\n",
    "node2 = Node()\n",
    "node2.data = \"정연\"\n",
    "node1.link = node2\n",
    "\n",
    "node3 = Node()\n",
    "node3.data = \"쯔위\"\n",
    "node2.link = node3\n",
    "\n",
    "node4 = Node()\n",
    "node4.data = \"사나\"\n",
    "node3.link = node4\n",
    "\n",
    "node5 = Node()\n",
    "node5.data = \"지효\"\n",
    "node4.link = node5\n",
    "\n",
    "print(node1.data, end = ' ')\n",
    "print(node1.link.data, end = ' ')\n",
    "print(node1.link.link.data, end = ' ')\n",
    "print(node1.link.link.link.data, end = ' ')\n",
    "print(node1.link.link.link.link.data, end = ' ')"
   ]
  },
  {
   "cell_type": "markdown",
   "id": "39c5dee4",
   "metadata": {},
   "source": [
    "### Code04-02.py 데이터가 5개인 단순 연결 리스트 생성(개선 버전)"
   ]
  },
  {
   "cell_type": "code",
   "execution_count": 14,
   "id": "a2e47084",
   "metadata": {},
   "outputs": [
    {
     "name": "stdout",
     "output_type": "stream",
     "text": [
      "다현 정연 쯔위 사나 지효 "
     ]
    }
   ],
   "source": [
    "class Node():\n",
    "    def __init__(self):\n",
    "        self.data = None\n",
    "        self.link = None\n",
    "        \n",
    "node1 = Node()\n",
    "node1.data = \"다현\"\n",
    "\n",
    "node2 = Node()\n",
    "node2.data = \"정연\"\n",
    "node1.link = node2\n",
    "\n",
    "node3 = Node()\n",
    "node3.data = \"쯔위\"\n",
    "node2.link = node3\n",
    "\n",
    "node4 = Node()\n",
    "node4.data = \"사나\"\n",
    "node3.link = node4\n",
    "\n",
    "node5 = Node()\n",
    "node5.data = \"지효\"\n",
    "node4.link = node5\n",
    "\n",
    "current = node1\n",
    "print(current.data, end = ' ')\n",
    "while current.link != None:\n",
    "    current = current.link\n",
    "    print(current.data, end = ' ')"
   ]
  },
  {
   "cell_type": "markdown",
   "id": "7e792851",
   "metadata": {},
   "source": [
    "### Code04-03.py 데이터가 5개인 단순 연결 리스트의 노드 삽입"
   ]
  },
  {
   "cell_type": "code",
   "execution_count": 16,
   "id": "67421810",
   "metadata": {},
   "outputs": [
    {
     "name": "stdout",
     "output_type": "stream",
     "text": [
      "다현 정연 재남 쯔위 사나 지효 "
     ]
    }
   ],
   "source": [
    "class Node():\n",
    "    def __init__(self):\n",
    "        self.data = None\n",
    "        self.link = None\n",
    "        \n",
    "node1 = Node()\n",
    "node1.data = \"다현\"\n",
    "\n",
    "node2 = Node()\n",
    "node2.data = \"정연\"\n",
    "node1.link = node2\n",
    "\n",
    "node3 = Node()\n",
    "node3.data = \"쯔위\"\n",
    "node2.link = node3\n",
    "\n",
    "node4 = Node()\n",
    "node4.data = \"사나\"\n",
    "node3.link = node4\n",
    "\n",
    "node5 = Node()\n",
    "node5.data = \"지효\"\n",
    "node4.link = node5\n",
    "\n",
    "newNode = Node()\n",
    "newNode.data = \"재남\"\n",
    "newNode.link = node2.link\n",
    "node2.link = newNode\n",
    "\n",
    "current = node1\n",
    "print(current.data, end = ' ')\n",
    "while current.link != None:\n",
    "    current = current.link\n",
    "    print(current.data, end = ' ')"
   ]
  },
  {
   "cell_type": "markdown",
   "id": "07afb09e",
   "metadata": {},
   "source": [
    "### Code04-04.py 데이터가 5개인 단순 연결 리스트의 노드 삭제"
   ]
  },
  {
   "cell_type": "code",
   "execution_count": 17,
   "id": "662cb86d",
   "metadata": {},
   "outputs": [
    {
     "name": "stdout",
     "output_type": "stream",
     "text": [
      "다현 정연 사나 지효 "
     ]
    }
   ],
   "source": [
    "class Node():\n",
    "    def __init__(self):\n",
    "        self.data = None\n",
    "        self.link = None\n",
    "        \n",
    "node1 = Node()\n",
    "node1.data = \"다현\"\n",
    "\n",
    "node2 = Node()\n",
    "node2.data = \"정연\"\n",
    "node1.link = node2\n",
    "\n",
    "node3 = Node()\n",
    "node3.data = \"쯔위\"\n",
    "node2.link = node3\n",
    "\n",
    "node4 = Node()\n",
    "node4.data = \"사나\"\n",
    "node3.link = node4\n",
    "\n",
    "node5 = Node()\n",
    "node5.data = \"지효\"\n",
    "node4.link = node5\n",
    "\n",
    "node2.link = node3.link\n",
    "del(node3)\n",
    "\n",
    "current = node1\n",
    "print(current.data, end = ' ')\n",
    "while current.link != None:\n",
    "    current = current.link\n",
    "    print(current.data, end = ' ')"
   ]
  },
  {
   "cell_type": "markdown",
   "id": "bb471620",
   "metadata": {},
   "source": [
    "### Code04-05.py 단순 연결 리스트 생성"
   ]
  },
  {
   "cell_type": "code",
   "execution_count": 18,
   "id": "5a01cc42",
   "metadata": {},
   "outputs": [
    {
     "name": "stdout",
     "output_type": "stream",
     "text": [
      "다현 정연 쯔위 사나 지효 \n"
     ]
    }
   ],
   "source": [
    "class Node():\n",
    "    def __init__ (self):\n",
    "        self.data = None\n",
    "        self.link = None\n",
    "\n",
    "def printNodes(start):\n",
    "    current = start\n",
    "    if current == None:\n",
    "        return\n",
    "    print(current.data, end = ' ')\n",
    "    while current.link != None:\n",
    "        current = current.link\n",
    "        print(current.data, end = ' ')\n",
    "    print()\n",
    "    \n",
    "memory = []\n",
    "head, current, pre = None, None, None\n",
    "dataArray = [\"다현\",\"정연\",\"쯔위\",\"사나\",\"지효\"]\n",
    "\n",
    "if __name__ == \"__main__\":\n",
    "    node = Node()\n",
    "    node.data = dataArray[0]\n",
    "    head = node\n",
    "    memory.append(node)\n",
    "    \n",
    "    for data in dataArray[1:]:\n",
    "        pre = node\n",
    "        node = Node()\n",
    "        node.data = data\n",
    "        pre.link = node\n",
    "        memory.append(node)\n",
    "        \n",
    "    printNodes(head)"
   ]
  },
  {
   "cell_type": "markdown",
   "id": "f802642f",
   "metadata": {},
   "source": [
    "### Code04-06.py 단순 연결 리스트의 노드 삽입 함수"
   ]
  },
  {
   "cell_type": "code",
   "execution_count": 20,
   "id": "7a3199ab",
   "metadata": {},
   "outputs": [
    {
     "name": "stdout",
     "output_type": "stream",
     "text": [
      "다현 정연 쯔위 사나 지효 \n",
      "화사 다현 정연 쯔위 사나 지효 \n",
      "화사 다현 정연 쯔위 솔라 사나 지효 \n",
      "화사 다현 정연 쯔위 솔라 사나 지효 문별 \n"
     ]
    }
   ],
   "source": [
    "class Node():\n",
    "    def __init__ (self):\n",
    "        self.data = None\n",
    "        self.link = None\n",
    "    \n",
    "def printNodes(start):\n",
    "    current = start\n",
    "    if current == None:\n",
    "        return\n",
    "    print(current.data, end = ' ')\n",
    "    while current.link != None:\n",
    "        current = current.link\n",
    "        print(current.data, end = ' ')\n",
    "    print()\n",
    "    \n",
    "def insertNode(findData, insertData):\n",
    "    global memory, head, current, pre\n",
    "    \n",
    "    if head.data == findData:\n",
    "        node = Node()\n",
    "        node.data = insertData\n",
    "        node.link = head\n",
    "        head = node\n",
    "        return\n",
    "    \n",
    "    current = head\n",
    "    while current.link != None:\n",
    "        pre = current\n",
    "        current = current.link\n",
    "        if current.data == findData:\n",
    "            node = Node()\n",
    "            node.data = insertData\n",
    "            node.link = current\n",
    "            pre.link = node\n",
    "            return\n",
    "        \n",
    "    node = Node()\n",
    "    node.data = insertData\n",
    "    current.link = node\n",
    "    \n",
    "memory = []\n",
    "head, current, pre = None, None, None\n",
    "dataArray = [\"다현\",\"정연\",\"쯔위\",\"사나\",\"지효\"]\n",
    "\n",
    "if __name__ == \"__main__\":\n",
    "    node = Node()\n",
    "    node.data = dataArray[0]\n",
    "    head = node\n",
    "    memory.append(node)\n",
    "    \n",
    "    for data in dataArray[1:]:\n",
    "        pre = node\n",
    "        node = Node()\n",
    "        node.data = data\n",
    "        pre.link = node\n",
    "        memory.append(node)\n",
    "        \n",
    "    printNodes(head)\n",
    "    \n",
    "    insertNode(\"다현\",\"화사\")\n",
    "    printNodes(head)\n",
    "    \n",
    "    insertNode(\"사나\",\"솔라\")\n",
    "    printNodes(head)\n",
    "    \n",
    "    insertNode(\"재남\",\"문별\")\n",
    "    printNodes(head)"
   ]
  }
 ],
 "metadata": {
  "kernelspec": {
   "display_name": "Python 3 (ipykernel)",
   "language": "python",
   "name": "python3"
  },
  "language_info": {
   "codemirror_mode": {
    "name": "ipython",
    "version": 3
   },
   "file_extension": ".py",
   "mimetype": "text/x-python",
   "name": "python",
   "nbconvert_exporter": "python",
   "pygments_lexer": "ipython3",
   "version": "3.9.12"
  }
 },
 "nbformat": 4,
 "nbformat_minor": 5
}
