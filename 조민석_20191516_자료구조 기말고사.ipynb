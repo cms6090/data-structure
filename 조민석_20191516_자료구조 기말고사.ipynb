{
 "cells": [
  {
   "cell_type": "markdown",
   "id": "659d1ad0",
   "metadata": {},
   "source": [
    "# 자료구조 기말고사\n",
    "# 학번 : 20191516\n",
    "# 이름 : 조민석"
   ]
  },
  {
   "cell_type": "code",
   "execution_count": 1,
   "id": "a6515670",
   "metadata": {},
   "outputs": [],
   "source": [
    "# 1번\n",
    "def quickSort():\n",
    "    \n",
    "    \n",
    "dataAry = {186, 148, 166, 160, 103, 118, 175, 48}"
   ]
  },
  {
   "cell_type": "code",
   "execution_count": 2,
   "id": "49658dce",
   "metadata": {},
   "outputs": [
    {
     "name": "stdout",
     "output_type": "stream",
     "text": [
      "2 x 1 = 2 3 x 1 = 3 4 x 1 = 4 5 x 1 = 5 6 x 1 = 6 7 x 1 = 7 8 x 1 = 8 9 x 1 = 9 \n",
      "2 x 2 = 4 3 x 2 = 6 4 x 2 = 8 5 x 2 = 10 6 x 2 = 12 7 x 2 = 14 8 x 2 = 16 9 x 2 = 18 \n",
      "2 x 3 = 6 3 x 3 = 9 4 x 3 = 12 5 x 3 = 15 6 x 3 = 18 7 x 3 = 21 8 x 3 = 24 9 x 3 = 27 \n",
      "2 x 4 = 8 3 x 4 = 12 4 x 4 = 16 5 x 4 = 20 6 x 4 = 24 7 x 4 = 28 8 x 4 = 32 9 x 4 = 36 \n",
      "2 x 5 = 10 3 x 5 = 15 4 x 5 = 20 5 x 5 = 25 6 x 5 = 30 7 x 5 = 35 8 x 5 = 40 9 x 5 = 45 \n",
      "2 x 6 = 12 3 x 6 = 18 4 x 6 = 24 5 x 6 = 30 6 x 6 = 36 7 x 6 = 42 8 x 6 = 48 9 x 6 = 54 \n",
      "2 x 7 = 14 3 x 7 = 21 4 x 7 = 28 5 x 7 = 35 6 x 7 = 42 7 x 7 = 49 8 x 7 = 56 9 x 7 = 63 \n",
      "2 x 8 = 16 3 x 8 = 24 4 x 8 = 32 5 x 8 = 40 6 x 8 = 48 7 x 8 = 56 8 x 8 = 64 9 x 8 = 72 \n",
      "2 x 9 = 18 3 x 9 = 27 4 x 9 = 36 5 x 9 = 45 6 x 9 = 54 7 x 9 = 63 8 x 9 = 72 9 x 9 = 81 \n"
     ]
    }
   ],
   "source": [
    "# 2번\n",
    "def gugu(n):\n",
    "    if n <= 9:\n",
    "        for i in range(2, 10):\n",
    "            print(i, \"x\", n, \"=\", i*n, end = ' ')\n",
    "        print()\n",
    "        return gugu(n+1)\n",
    "    \n",
    "gugu(1)"
   ]
  },
  {
   "cell_type": "code",
   "execution_count": 6,
   "id": "929f2930",
   "metadata": {},
   "outputs": [
    {
     "ename": "NameError",
     "evalue": "name 'G1' is not defined",
     "output_type": "error",
     "traceback": [
      "\u001b[1;31m---------------------------------------------------------------------------\u001b[0m",
      "\u001b[1;31mNameError\u001b[0m                                 Traceback (most recent call last)",
      "Input \u001b[1;32mIn [6]\u001b[0m, in \u001b[0;36m<cell line: 8>\u001b[1;34m()\u001b[0m\n\u001b[0;32m      5\u001b[0m dataArray  \u001b[38;5;241m=\u001b[39m [\u001b[38;5;124m'\u001b[39m\u001b[38;5;124m문별\u001b[39m\u001b[38;5;124m'\u001b[39m, \u001b[38;5;124m'\u001b[39m\u001b[38;5;124m솔라\u001b[39m\u001b[38;5;124m'\u001b[39m, \u001b[38;5;124m'\u001b[39m\u001b[38;5;124m휘인\u001b[39m\u001b[38;5;124m'\u001b[39m, \u001b[38;5;124m'\u001b[39m\u001b[38;5;124m쯔위\u001b[39m\u001b[38;5;124m'\u001b[39m, \u001b[38;5;124m'\u001b[39m\u001b[38;5;124m선미\u001b[39m\u001b[38;5;124m'\u001b[39m, \u001b[38;5;124m'\u001b[39m\u001b[38;5;124m화사\u001b[39m\u001b[38;5;124m'\u001b[39m]\n\u001b[0;32m      6\u001b[0m 문별, 솔라, 휘인, 쯔위, 선미, 화사 \u001b[38;5;241m=\u001b[39m \u001b[38;5;241m0\u001b[39m, \u001b[38;5;241m1\u001b[39m, \u001b[38;5;241m2\u001b[39m, \u001b[38;5;241m3\u001b[39m, \u001b[38;5;241m4\u001b[39m, \u001b[38;5;241m5\u001b[39m\n\u001b[1;32m----> 8\u001b[0m printGraph(\u001b[43mG1\u001b[49m)\n\u001b[0;32m      9\u001b[0m G1\u001b[38;5;241m.\u001b[39mgraph[문별][솔라] \u001b[38;5;241m=\u001b[39m \u001b[38;5;241m1\u001b[39m; G1\u001b[38;5;241m.\u001b[39mgraph[문별][휘인] \u001b[38;5;241m=\u001b[39m \u001b[38;5;241m1\u001b[39m\n\u001b[0;32m     10\u001b[0m G1\u001b[38;5;241m.\u001b[39mgraph[솔라][문별] \u001b[38;5;241m=\u001b[39m \u001b[38;5;241m1\u001b[39m; G1\u001b[38;5;241m.\u001b[39mgraph[솔라][쯔위] \u001b[38;5;241m=\u001b[39m \u001b[38;5;241m1\u001b[39m\n",
      "\u001b[1;31mNameError\u001b[0m: name 'G1' is not defined"
     ]
    }
   ],
   "source": [
    "# 3번\n",
    "def graph(self):\n",
    "    self.data = None\n",
    "    self.graph = [[0 for _ in range(6)] for _ in range(6)]\n",
    "    \n",
    "dataArray  = ['문별', '솔라', '휘인', '쯔위', '선미', '화사']\n",
    "문별, 솔라, 휘인, 쯔위, 선미, 화사 = 0, 1, 2, 3, 4, 5\n",
    "\n",
    "G1 = graph()\n",
    "G1.graph[문별][솔라] = 1; G1.graph[문별][휘인] = 1\n",
    "G1.graph[솔라][문별] = 1; G1.graph[솔라][쯔위] = 1\n",
    "G1.graph[휘인][문별] = 1; G1.graph[휘인][쯔위] = 1\n",
    "G1.graph[쯔위][솔라] = 1; G1.graph[쯔위][휘인] = 1; G1.graph[쯔위][선미] = 1; G1.graph[쯔위][화사] = 1\n",
    "G1.graph[선미][쯔위] = 1; G1.graph[선미][화사] = 1\n",
    "G1.graph[화사][쯔위] = 1; G1.graph[화사][선미] = 1"
   ]
  }
 ],
 "metadata": {
  "kernelspec": {
   "display_name": "Python 3 (ipykernel)",
   "language": "python",
   "name": "python3"
  },
  "language_info": {
   "codemirror_mode": {
    "name": "ipython",
    "version": 3
   },
   "file_extension": ".py",
   "mimetype": "text/x-python",
   "name": "python",
   "nbconvert_exporter": "python",
   "pygments_lexer": "ipython3",
   "version": "3.9.12"
  }
 },
 "nbformat": 4,
 "nbformat_minor": 5
}
