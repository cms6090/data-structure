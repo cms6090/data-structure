{
 "cells": [
  {
   "cell_type": "markdown",
   "id": "e7ddfa5d",
   "metadata": {},
   "source": [
    "# 2022년 9월 13, 15일 파이썬 실습 2주차-2, 3주차-1\n",
    "# 학번 : 20191516\n",
    "# 이름 : 조민석"
   ]
  },
  {
   "cell_type": "markdown",
   "id": "3b5ce832",
   "metadata": {},
   "source": [
    "### Code03-01.py 선형 리스트를 생성하는 함수"
   ]
  },
  {
   "cell_type": "code",
   "execution_count": 1,
   "id": "95a67800",
   "metadata": {},
   "outputs": [
    {
     "name": "stdout",
     "output_type": "stream",
     "text": [
      "['다현', '정연', '쯔위', '사나', '지효']\n"
     ]
    }
   ],
   "source": [
    "katok = []    # 빈 배열\n",
    "\n",
    "def add_data(friend):\n",
    "    \n",
    "    katok.append(None)\n",
    "    kLen = len(katok)\n",
    "    katok[kLen-1] = friend\n",
    "    \n",
    "add_data('다현')\n",
    "add_data('정연')\n",
    "add_data('쯔위')\n",
    "add_data('사나')\n",
    "add_data('지효')\n",
    "\n",
    "print(katok)"
   ]
  },
  {
   "cell_type": "markdown",
   "id": "552b6c53",
   "metadata": {},
   "source": [
    "### Code03-02.py 데이터를 삽입하는 함수"
   ]
  },
  {
   "cell_type": "code",
   "execution_count": 2,
   "id": "de4fbfaf",
   "metadata": {},
   "outputs": [
    {
     "name": "stdout",
     "output_type": "stream",
     "text": [
      "['다현', '정연', '솔라', '쯔위', '사나', '지효']\n",
      "['다현', '정연', '솔라', '쯔위', '사나', '지효', '문별']\n"
     ]
    }
   ],
   "source": [
    "katok = [\"다현\", \"정연\", \"쯔위\", \"사나\", \"지효\"]\n",
    "\n",
    "\n",
    "def insert_data(position, friend):\n",
    "    \n",
    "    if position <0 or position> len(katok):\n",
    "        print(\"데이터를 삽입할 범위를 벗어났습니다.\")\n",
    "        return\n",
    "    \n",
    "    katok.append(None)     # 빈칸 추가\n",
    "    kLen = len(katok)      # 배열의 현재 크기\n",
    "    \n",
    "    for i in range(kLen-1, position, -1):\n",
    "        katok[i] = katok[i-1]\n",
    "        katok[i-1] = None\n",
    "        \n",
    "    katok[position] = friend      # 지정한 위치에 친구 추가\n",
    "    \n",
    "    \n",
    "insert_data(2, '솔라')\n",
    "print(katok)\n",
    "insert_data(6, '문별')\n",
    "print(katok)"
   ]
  },
  {
   "cell_type": "markdown",
   "id": "89e571e7",
   "metadata": {},
   "source": [
    "### Code03-03.py 데이터를 삭제하는 함수"
   ]
  },
  {
   "cell_type": "code",
   "execution_count": 3,
   "id": "d0a751db",
   "metadata": {},
   "outputs": [
    {
     "name": "stdout",
     "output_type": "stream",
     "text": [
      "['다현', '쯔위', '사나', '지효']\n",
      "['다현', '쯔위', '사나']\n"
     ]
    }
   ],
   "source": [
    "katok = [\"다현\", \"정연\", \"쯔위\", \"사나\", \"지효\"]\n",
    "\n",
    "\n",
    "def delete_data(position):\n",
    "    \n",
    "    if position <0 or position> len(katok):\n",
    "        print(\"데이터를 삽입할 범위를 벗어났습니다.\")\n",
    "        return\n",
    "    \n",
    "    kLen= len(katok)\n",
    "    katok[position] = None     # 데이터 삭제\n",
    "    \n",
    "    for i in range(position+1, kLen):\n",
    "        katok[i-1] = katok[i]\n",
    "        katok[i] = None\n",
    "        \n",
    "    del(katok[kLen-1])         # 배열의 맨 마지막 위치 삭제\n",
    "    \n",
    "delete_data(1)\n",
    "print(katok)\n",
    "delete_data(3)\n",
    "print(katok)"
   ]
  },
  {
   "cell_type": "markdown",
   "id": "9dd1e794",
   "metadata": {},
   "source": [
    "### SELF STUDY 3-1"
   ]
  },
  {
   "cell_type": "code",
   "execution_count": 4,
   "id": "92062565",
   "metadata": {},
   "outputs": [
    {
     "name": "stdout",
     "output_type": "stream",
     "text": [
      "['다현']\n",
      "데이터를 삽입할 범위를 벗어났습니다.\n",
      "['다현']\n"
     ]
    }
   ],
   "source": [
    "katok = [\"다현\", \"정연\", \"쯔위\", \"사나\", \"지효\"]\n",
    "\n",
    "\n",
    "def delete_data(position):\n",
    "    \n",
    "    if position <0 or position> len(katok):\n",
    "        print(\"데이터를 삽입할 범위를 벗어났습니다.\")\n",
    "        return\n",
    "    \n",
    "    kLen= len(katok)\n",
    "    katok[position] = None     # 데이터 삭제\n",
    "    \n",
    "    for i in range(position+1, kLen):\n",
    "        katok[i] = None\n",
    "        \n",
    "    \n",
    "    for j in range(position, kLen):\n",
    "        del(katok[kLen-j])\n",
    "    \n",
    "delete_data(1)\n",
    "print(katok)\n",
    "delete_data(3)\n",
    "print(katok)"
   ]
  },
  {
   "cell_type": "markdown",
   "id": "a1187d49",
   "metadata": {},
   "source": [
    "### Code03-04.py 선형 리스트 처리 프로그램"
   ]
  },
  {
   "cell_type": "code",
   "execution_count": 5,
   "id": "eac5bc61",
   "metadata": {},
   "outputs": [
    {
     "name": "stdout",
     "output_type": "stream",
     "text": [
      "선택하세요(1: 추가, 2: 삽입, 3: 삭제, 4: 종료)--> 1\n",
      "추가할 데이터--> 다현\n",
      "['다현']\n",
      "선택하세요(1: 추가, 2: 삽입, 3: 삭제, 4: 종료)--> 1\n",
      "추가할 데이터--> 정연\n",
      "['다현', '정연']\n",
      "선택하세요(1: 추가, 2: 삽입, 3: 삭제, 4: 종료)--> 1\n",
      "추가할 데이터--> 쯔위\n",
      "['다현', '정연', '쯔위']\n",
      "선택하세요(1: 추가, 2: 삽입, 3: 삭제, 4: 종료)--> 2\n",
      "삽입할 위치--> 1\n",
      "추가할 데이터--> 하나\n",
      "['다현', '하나', '정연', '쯔위']\n",
      "선택하세요(1: 추가, 2: 삽입, 3: 삭제, 4: 종료)--> 2\n",
      "삽입할 위치--> 0\n",
      "추가할 데이터--> 문별\n",
      "['문별', '다현', '하나', '정연', '쯔위']\n",
      "선택하세요(1: 추가, 2: 삽입, 3: 삭제, 4: 종료)--> 3\n",
      "삭제할 위치--> 3\n",
      "['문별', '다현', '하나', '쯔위']\n",
      "선택하세요(1: 추가, 2: 삽입, 3: 삭제, 4: 종료)--> 4\n",
      "['문별', '다현', '하나', '쯔위']\n"
     ]
    }
   ],
   "source": [
    "## 함수 선언 부분 ##\n",
    "def add_data(friend):\n",
    "    \n",
    "    katok.append(None)\n",
    "    kLen = len(katok)\n",
    "    katok[kLen-1] = friend\n",
    "\n",
    "    \n",
    "def insert_data(position, friend):\n",
    "    \n",
    "    if position <0 or position> len(katok):\n",
    "        print(\"데이터를 삽입할 범위를 벗어났습니다.\")\n",
    "        return\n",
    "    \n",
    "    katok.append(None)\n",
    "    kLen = len(katok)\n",
    "    \n",
    "    for i in range(kLen-1, position, -1):\n",
    "        katok[i] = katok[i-1]\n",
    "        katok[i-1] = None\n",
    "        \n",
    "    katok[position] = friend\n",
    "    \n",
    "\n",
    "def delete_data(position):\n",
    "    \n",
    "    if position <0 or position> len(katok):\n",
    "        print(\"데이터를 삽입할 범위를 벗어났습니다.\")\n",
    "        return\n",
    "    \n",
    "    kLen= len(katok)\n",
    "    katok[position] = None\n",
    "    \n",
    "    for i in range(position+1, kLen):\n",
    "        katok[i-1] = katok[i]\n",
    "        katok[i] = None\n",
    "        \n",
    "    del(katok[kLen-1])\n",
    "    \n",
    "## 전역 변수 선언 부분 ##\n",
    "katok = []\n",
    "select = -1      # 1: 추가, 2: 삽입, 3: 삭제, 4: 종료\n",
    "\n",
    "\n",
    "## 메인 코드 부분 ##\n",
    "if __name__ == \"__main__\":\n",
    "    \n",
    "    while (select != 4):\n",
    "        \n",
    "        select = int(input(\"선택하세요(1: 추가, 2: 삽입, 3: 삭제, 4: 종료)--> \"))\n",
    "        \n",
    "        if (select == 1):\n",
    "            data = input(\"추가할 데이터--> \")\n",
    "            add_data(data)\n",
    "            print(katok)    \n",
    "        elif (select == 2):\n",
    "            pos = int(input(\"삽입할 위치--> \"))\n",
    "            data = input(\"추가할 데이터--> \")\n",
    "            insert_data(pos, data)\n",
    "            print(katok)\n",
    "            \n",
    "        elif (select == 3):\n",
    "            pos = int(input(\"삭제할 위치--> \"))\n",
    "            delete_data(pos)\n",
    "            print(katok)\n",
    "        elif (select == 4):\n",
    "            print(katok)\n",
    "            exit\n",
    "        else:\n",
    "            print(\"1~4 중 하나를 입력하세요.\")\n",
    "            continue"
   ]
  },
  {
   "cell_type": "markdown",
   "id": "a3500c52",
   "metadata": {},
   "source": [
    "### Code03-05py 다향식 선형 리스트 표현과 계산 프로그램"
   ]
  },
  {
   "cell_type": "code",
   "execution_count": 6,
   "id": "cd7ac8f4",
   "metadata": {},
   "outputs": [
    {
     "name": "stdout",
     "output_type": "stream",
     "text": [
      "P(x) = +7x^3 -4x^2 +0x^1 +5x^0 \n",
      "X 값-->2\n",
      "45\n"
     ]
    }
   ],
   "source": [
    "## 함수 선언 부분 ##\n",
    "def printPoly(p_x) :\n",
    "    term= len(p_x) - 1      # 최고차항 숫자 = 배열 길이-1\n",
    "    polyStr = \"P(x) = \"\n",
    "    \n",
    "    for i in range(len(px)):\n",
    "        coef = p_x[i]       # 계수\n",
    "        \n",
    "        if (coef >= 0):\n",
    "            polyStr += \"+\"\n",
    "        polyStr += str(coef) + \"x^\" + str(term) + \" \"\n",
    "        term -= 1\n",
    "        \n",
    "    return polyStr\n",
    "\n",
    "\n",
    "def calcPoly(xVal, p_x):\n",
    "    retValue = 0\n",
    "    term = len(p_x) - 1    # 최고차항 숫자 = 배열 길이 - 1\n",
    "    \n",
    "    for i in range(len(px)):\n",
    "        coef = p_x[i]      # 계수\n",
    "        retValue += coef * xVal ** term\n",
    "        term -= 1\n",
    "        \n",
    "    return retValue\n",
    "\n",
    "\n",
    "## 전역 변수 선언 부분 ##\n",
    "px = [7, -4, 0, 5]        # = 7x^3 - 4x^2 +0x^1 + 5x^0\n",
    "\n",
    "\n",
    "## 메인 코드 부분 ##\n",
    "if __name__ == \"__main__\":\n",
    "    \n",
    "    pStr = printPoly(px)\n",
    "    print(pStr)\n",
    "    \n",
    "    xValue = int(input(\"X 값-->\"))\n",
    "    \n",
    "    pxValue = calcPoly(xValue, px)\n",
    "    print(pxValue)"
   ]
  },
  {
   "cell_type": "markdown",
   "id": "1ac56447",
   "metadata": {},
   "source": [
    "### SELF STUDY 3-2"
   ]
  },
  {
   "cell_type": "code",
   "execution_count": 7,
   "id": "1bcbcf46",
   "metadata": {},
   "outputs": [
    {
     "name": "stdout",
     "output_type": "stream",
     "text": [
      "P(x) = 7x^3 -4x^2 5x^0 \n",
      "X 값-->3\n",
      "158\n"
     ]
    }
   ],
   "source": [
    "## 함수 선언 부분 ##\n",
    "def printPoly(p_x) :\n",
    "    term= len(p_x) - 1\n",
    "    polyStr = \"P(x) = \"\n",
    "    \n",
    "    for i in range(len(px)):\n",
    "        coef = p_x[i]\n",
    "        \n",
    "        if (coef > 0):\n",
    "            polyStr += str(coef) + \"x^\" + str(term) + \" \"\n",
    "        if (coef < 0):\n",
    "            polyStr += str(coef) + \"x^\" + str(term) + \" \"\n",
    "        \n",
    "        term -= 1\n",
    "        \n",
    "    return polyStr\n",
    "\n",
    "\n",
    "def calcPoly(xVal, p_x):\n",
    "    retValue = 0\n",
    "    term = len(p_x) - 1\n",
    "    \n",
    "    for i in range(len(px)):\n",
    "        coef = p_x[i]\n",
    "        retValue += coef * xVal ** term\n",
    "        term -= 1\n",
    "        \n",
    "    return retValue\n",
    "\n",
    "\n",
    "## 전역 변수 선언 부분 ##\n",
    "px = [7, -4, 0, 5]\n",
    "\n",
    "## 메인 코드 부분 ##\n",
    "if __name__ == \"__main__\":\n",
    "    \n",
    "    pStr = printPoly(px)\n",
    "    print(pStr)\n",
    "    \n",
    "    xValue = int(input(\"X 값-->\"))\n",
    "    \n",
    "    pxValue = calcPoly(xValue, px)\n",
    "    print(pxValue)"
   ]
  },
  {
   "cell_type": "markdown",
   "id": "a7baa501",
   "metadata": {},
   "source": [
    "### Code03-06.py 특수 다항식의 선형 리스트 표현과 계산 프로그램"
   ]
  },
  {
   "cell_type": "code",
   "execution_count": 8,
   "id": "f1bf36c3",
   "metadata": {},
   "outputs": [
    {
     "name": "stdout",
     "output_type": "stream",
     "text": [
      "P(x) = +7x^300 -4x^20 +5x^0 \n",
      "X 값-->1\n",
      "8\n"
     ]
    }
   ],
   "source": [
    "## 함수 선언 부분 ##\n",
    "def printPoly(t_x, p_x):\n",
    "    polyStr = \"P(x) = \"\n",
    "    \n",
    "    for i in range(len(p_x)):\n",
    "        term = t_x[i]      # 항 차수\n",
    "        coef = p_x[i]      # 계수\n",
    "        \n",
    "        if (coef >= 0):\n",
    "            polyStr += \"+\"\n",
    "        polyStr += str(coef) + \"x^\" + str(term) + \" \"\n",
    "    \n",
    "    return polyStr\n",
    "\n",
    "\n",
    "def calcPoly(xVal, t_x, p_x):\n",
    "    retValue = 0\n",
    "    \n",
    "    for i in range(len(px)):\n",
    "        term = t_x[i]      # 항 차수\n",
    "        coef = p_x[i]      # 계수\n",
    "        retValue += coef * xValue ** term\n",
    "        \n",
    "        \n",
    "    return retValue\n",
    "\n",
    "\n",
    "## 전역 변수 선언 부분 ##\n",
    "tx = [300, 20, 0]\n",
    "px = [7, -4, 5]\n",
    "\n",
    "\n",
    "## 메인 코드 부분 ##\n",
    "if __name__ == \"__main__\":\n",
    "    \n",
    "    pStr = printPoly(tx, px)\n",
    "    print(pStr)\n",
    "    \n",
    "    xValue = int(input(\"X 값-->\"))\n",
    "    \n",
    "    pxValue = calcPoly(xValue, tx, px)\n",
    "    print(pxValue)"
   ]
  },
  {
   "cell_type": "markdown",
   "id": "75d296f1",
   "metadata": {},
   "source": [
    "## 연습문제\n",
    "### 1. 선형 리스트\n",
    "### 2. 1\n",
    "### 3. 4 - 2 - 3 - 1\n",
    "### 4. katok.append(None)\n",
    "### 5. del(katok[6])\n",
    "### 6. def add_data(friend):\n",
    "###     katok.append(None)\n",
    "###     kLen = len(katok)\n",
    "###     katok[kLen-1] = friend\n",
    "### 7. 4\n",
    "### 8. 4"
   ]
  },
  {
   "cell_type": "markdown",
   "id": "d1a36314",
   "metadata": {},
   "source": [
    "### 응용예제 01. 카톡 친구 자동 삽입하기"
   ]
  },
  {
   "cell_type": "code",
   "execution_count": 10,
   "id": "c2051896",
   "metadata": {},
   "outputs": [
    {
     "name": "stdout",
     "output_type": "stream",
     "text": [
      "추가할 친구--> 미나\n",
      "카톡 횟수--> 40\n",
      "[('다현', 200), ('정연', 150), ('쯔위', 90), ('미나', 40), ('사나', 30), ('지효', 15)]\n",
      "추가할 친구--> 혜리\n",
      "카톡 횟수--> 200\n",
      "[('혜리', 200), ('다현', 200), ('정연', 150), ('쯔위', 90), ('미나', 40), ('사나', 30), ('지효', 15)]\n"
     ]
    },
    {
     "ename": "KeyboardInterrupt",
     "evalue": "Interrupted by user",
     "output_type": "error",
     "traceback": [
      "\u001b[1;31m---------------------------------------------------------------------------\u001b[0m",
      "\u001b[1;31mKeyboardInterrupt\u001b[0m                         Traceback (most recent call last)",
      "Input \u001b[1;32mIn [10]\u001b[0m, in \u001b[0;36m<cell line: 34>\u001b[1;34m()\u001b[0m\n\u001b[0;32m     34\u001b[0m \u001b[38;5;28;01mif\u001b[39;00m \u001b[38;5;18m__name__\u001b[39m \u001b[38;5;241m==\u001b[39m \u001b[38;5;124m\"\u001b[39m\u001b[38;5;124m__main__\u001b[39m\u001b[38;5;124m\"\u001b[39m :\n\u001b[0;32m     36\u001b[0m     \u001b[38;5;28;01mwhile\u001b[39;00m \u001b[38;5;28;01mTrue\u001b[39;00m:\n\u001b[1;32m---> 37\u001b[0m         data \u001b[38;5;241m=\u001b[39m \u001b[38;5;28;43minput\u001b[39;49m\u001b[43m(\u001b[49m\u001b[38;5;124;43m\"\u001b[39;49m\u001b[38;5;124;43m추가할 친구--> \u001b[39;49m\u001b[38;5;124;43m\"\u001b[39;49m\u001b[43m)\u001b[49m\n\u001b[0;32m     38\u001b[0m         count \u001b[38;5;241m=\u001b[39m \u001b[38;5;28mint\u001b[39m(\u001b[38;5;28minput\u001b[39m(\u001b[38;5;124m\"\u001b[39m\u001b[38;5;124m카톡 횟수--> \u001b[39m\u001b[38;5;124m\"\u001b[39m))\n\u001b[0;32m     39\u001b[0m         find_and_insert_data(data, count)\n",
      "File \u001b[1;32m~\\anaconda3\\lib\\site-packages\\ipykernel\\kernelbase.py:1075\u001b[0m, in \u001b[0;36mKernel.raw_input\u001b[1;34m(self, prompt)\u001b[0m\n\u001b[0;32m   1071\u001b[0m \u001b[38;5;28;01mif\u001b[39;00m \u001b[38;5;129;01mnot\u001b[39;00m \u001b[38;5;28mself\u001b[39m\u001b[38;5;241m.\u001b[39m_allow_stdin:\n\u001b[0;32m   1072\u001b[0m     \u001b[38;5;28;01mraise\u001b[39;00m StdinNotImplementedError(\n\u001b[0;32m   1073\u001b[0m         \u001b[38;5;124m\"\u001b[39m\u001b[38;5;124mraw_input was called, but this frontend does not support input requests.\u001b[39m\u001b[38;5;124m\"\u001b[39m\n\u001b[0;32m   1074\u001b[0m     )\n\u001b[1;32m-> 1075\u001b[0m \u001b[38;5;28;01mreturn\u001b[39;00m \u001b[38;5;28;43mself\u001b[39;49m\u001b[38;5;241;43m.\u001b[39;49m\u001b[43m_input_request\u001b[49m\u001b[43m(\u001b[49m\n\u001b[0;32m   1076\u001b[0m \u001b[43m    \u001b[49m\u001b[38;5;28;43mstr\u001b[39;49m\u001b[43m(\u001b[49m\u001b[43mprompt\u001b[49m\u001b[43m)\u001b[49m\u001b[43m,\u001b[49m\n\u001b[0;32m   1077\u001b[0m \u001b[43m    \u001b[49m\u001b[38;5;28;43mself\u001b[39;49m\u001b[38;5;241;43m.\u001b[39;49m\u001b[43m_parent_ident\u001b[49m\u001b[43m[\u001b[49m\u001b[38;5;124;43m\"\u001b[39;49m\u001b[38;5;124;43mshell\u001b[39;49m\u001b[38;5;124;43m\"\u001b[39;49m\u001b[43m]\u001b[49m\u001b[43m,\u001b[49m\n\u001b[0;32m   1078\u001b[0m \u001b[43m    \u001b[49m\u001b[38;5;28;43mself\u001b[39;49m\u001b[38;5;241;43m.\u001b[39;49m\u001b[43mget_parent\u001b[49m\u001b[43m(\u001b[49m\u001b[38;5;124;43m\"\u001b[39;49m\u001b[38;5;124;43mshell\u001b[39;49m\u001b[38;5;124;43m\"\u001b[39;49m\u001b[43m)\u001b[49m\u001b[43m,\u001b[49m\n\u001b[0;32m   1079\u001b[0m \u001b[43m    \u001b[49m\u001b[43mpassword\u001b[49m\u001b[38;5;241;43m=\u001b[39;49m\u001b[38;5;28;43;01mFalse\u001b[39;49;00m\u001b[43m,\u001b[49m\n\u001b[0;32m   1080\u001b[0m \u001b[43m\u001b[49m\u001b[43m)\u001b[49m\n",
      "File \u001b[1;32m~\\anaconda3\\lib\\site-packages\\ipykernel\\kernelbase.py:1120\u001b[0m, in \u001b[0;36mKernel._input_request\u001b[1;34m(self, prompt, ident, parent, password)\u001b[0m\n\u001b[0;32m   1117\u001b[0m             \u001b[38;5;28;01mbreak\u001b[39;00m\n\u001b[0;32m   1118\u001b[0m \u001b[38;5;28;01mexcept\u001b[39;00m \u001b[38;5;167;01mKeyboardInterrupt\u001b[39;00m:\n\u001b[0;32m   1119\u001b[0m     \u001b[38;5;66;03m# re-raise KeyboardInterrupt, to truncate traceback\u001b[39;00m\n\u001b[1;32m-> 1120\u001b[0m     \u001b[38;5;28;01mraise\u001b[39;00m \u001b[38;5;167;01mKeyboardInterrupt\u001b[39;00m(\u001b[38;5;124m\"\u001b[39m\u001b[38;5;124mInterrupted by user\u001b[39m\u001b[38;5;124m\"\u001b[39m) \u001b[38;5;28;01mfrom\u001b[39;00m \u001b[38;5;28mNone\u001b[39m\n\u001b[0;32m   1121\u001b[0m \u001b[38;5;28;01mexcept\u001b[39;00m \u001b[38;5;167;01mException\u001b[39;00m:\n\u001b[0;32m   1122\u001b[0m     \u001b[38;5;28mself\u001b[39m\u001b[38;5;241m.\u001b[39mlog\u001b[38;5;241m.\u001b[39mwarning(\u001b[38;5;124m\"\u001b[39m\u001b[38;5;124mInvalid Message:\u001b[39m\u001b[38;5;124m\"\u001b[39m, exc_info\u001b[38;5;241m=\u001b[39m\u001b[38;5;28;01mTrue\u001b[39;00m)\n",
      "\u001b[1;31mKeyboardInterrupt\u001b[0m: Interrupted by user"
     ]
    }
   ],
   "source": [
    "## 함수 선언 부분 ##\n",
    "def find_and_insert_data(friend, k_count):\n",
    "    findPos = -1\n",
    "    for i in range(len(katok)):\n",
    "        pair = katok[i]\n",
    "        if k_count >= pair[1]:\n",
    "            findPos = i\n",
    "            break\n",
    "    if findPos == -1:\n",
    "        findPos = len(katok)\n",
    "            \n",
    "    insert_data(findPos, (friend, k_count))\n",
    "        \n",
    "        \n",
    "def insert_data(position, friend) :\n",
    "    if position <0 or position> len(katok):\n",
    "        print(\"데이터를 삽입할 범위를 벗어났습니다.\")\n",
    "        return\n",
    "    \n",
    "    katok.append(None)      # 빈칸 추가\n",
    "    kLen = len(katok)       # 배열의 현재 크기\n",
    "    \n",
    "    for i in range(kLen - 1, position, -1):\n",
    "        katok[i] = katok[i-1]\n",
    "        katok[i-1] = None\n",
    "        \n",
    "    katok[position] = friend\n",
    "    \n",
    "    \n",
    "## 전역 변수 선언 부분 ##\n",
    "katok = [('다현', 200), ('정연', 150), ('쯔위', 90), ('사나', 30), ('지효', 15)]\n",
    "\n",
    "## 메인 코드 부분 ##\n",
    "if __name__ == \"__main__\" :\n",
    "    \n",
    "    while True:\n",
    "        data = input(\"추가할 친구--> \")\n",
    "        count = int(input(\"카톡 횟수--> \"))\n",
    "        find_and_insert_data(data, count)\n",
    "        print(katok)"
   ]
  },
  {
   "cell_type": "markdown",
   "id": "1dd760f8",
   "metadata": {},
   "source": [
    "### 응용예제 02. 2차원 배열 활용하기"
   ]
  },
  {
   "cell_type": "code",
   "execution_count": 9,
   "id": "fa0a72e1",
   "metadata": {},
   "outputs": [
    {
     "name": "stdout",
     "output_type": "stream",
     "text": [
      "P(x) = +7x^300 +5x^0 \n",
      "X 값--> 1\n",
      "8\n"
     ]
    }
   ],
   "source": [
    "## 함수 선언 부분 ##\n",
    "def printPoly(p_x):\n",
    "    polyStr = \"P(x) = \"\n",
    "    \n",
    "    for i in range(len(p_x[0])):\n",
    "        term = p_x[0][i]     # 항 차수\n",
    "        coef = p_x[1][i]     # 계수\n",
    "        \n",
    "        if (coef >= 0):\n",
    "            polyStr += \"+\"\n",
    "            polyStr += str(coef) + \"x^\" + str(term) + \" \"\n",
    "            \n",
    "    return polyStr\n",
    "\n",
    "\n",
    "def calcPoly(xVal, p_x):\n",
    "    retValue = 0\n",
    "    \n",
    "    for i in range(len(p_x[0])):\n",
    "        term = p_x[0][i]     # 항 차수\n",
    "        coef = p_x[1][i]     # 계수\n",
    "        retValue += coef * xValue ** term\n",
    "        term -= 1\n",
    "        \n",
    "    return retValue\n",
    "\n",
    "\n",
    "## 전역 변수 선언 부분 ##\n",
    "px = [[300, 20, 0],\n",
    "      [7, -4, 5]]\n",
    "\n",
    "## 메인 코드 부분 ##\n",
    "if __name__ == \"__main__\":\n",
    "    pStr = printPoly(px)\n",
    "    print(pStr)\n",
    "    \n",
    "    xValue = int(input(\"X 값--> \"))\n",
    "    \n",
    "    pxValue = calcPoly(xValue, px)\n",
    "    print(pxValue)"
   ]
  }
 ],
 "metadata": {
  "kernelspec": {
   "display_name": "Python 3 (ipykernel)",
   "language": "python",
   "name": "python3"
  },
  "language_info": {
   "codemirror_mode": {
    "name": "ipython",
    "version": 3
   },
   "file_extension": ".py",
   "mimetype": "text/x-python",
   "name": "python",
   "nbconvert_exporter": "python",
   "pygments_lexer": "ipython3",
   "version": "3.9.12"
  }
 },
 "nbformat": 4,
 "nbformat_minor": 5
}
