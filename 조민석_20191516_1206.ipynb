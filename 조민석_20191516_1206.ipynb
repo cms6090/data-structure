{
 "cells": [
  {
   "cell_type": "markdown",
   "id": "fa8304ae",
   "metadata": {},
   "source": [
    "# 2022년 12월 6일 파이썬 실습 14주차-4\n",
    "# 학번 : 20191516\n",
    "# 이름 : 조민석"
   ]
  },
  {
   "cell_type": "markdown",
   "id": "5cee0127",
   "metadata": {},
   "source": [
    "### Code11-03.py 개선된 선택 정렬"
   ]
  },
  {
   "cell_type": "code",
   "execution_count": 1,
   "id": "0361de9c",
   "metadata": {},
   "outputs": [
    {
     "name": "stdout",
     "output_type": "stream",
     "text": [
      "정렬 전 --> [188, 162, 168, 120, 50, 150, 177, 105]\n",
      "정렬 후 --> [50, 105, 120, 150, 162, 168, 177, 188]\n"
     ]
    }
   ],
   "source": [
    "## 클래스와 함수 선언 부분 ##\n",
    "def selectionSort(ary):\n",
    "    n = len(ary)\n",
    "    for i in range(0, n-1):\n",
    "        minIdx = i\n",
    "        for k in range(i+1, n):\n",
    "            if (ary[minIdx] > ary[k]):\n",
    "                minIdx = k\n",
    "        tmp = ary[i]\n",
    "        ary[i] = ary[minIdx]\n",
    "        ary[minIdx] = tmp\n",
    "        \n",
    "    return ary\n",
    "\n",
    "## 전역 변수 선언 부분 ##\n",
    "dataAry = [188, 162, 168, 120, 50, 150, 177, 105]\n",
    "\n",
    "## 메인 코드 부분 ##\n",
    "print('정렬 전 -->', dataAry)\n",
    "dataAry = selectionSort(dataAry)\n",
    "print('정렬 후 -->', dataAry)"
   ]
  },
  {
   "cell_type": "markdown",
   "id": "eb489bc8",
   "metadata": {},
   "source": [
    "### Code11-06.py 삽입 정렬의 효율적인 구현"
   ]
  },
  {
   "cell_type": "code",
   "execution_count": 2,
   "id": "699979d6",
   "metadata": {},
   "outputs": [
    {
     "name": "stdout",
     "output_type": "stream",
     "text": [
      "정렬 전 --> [188, 162, 168, 120, 50, 150, 177, 105]\n",
      "정렬 후 --> [50, 105, 120, 150, 162, 168, 177, 188]\n"
     ]
    }
   ],
   "source": [
    "## 클래스와 함수 선언 부분##\n",
    "def insertionSort(ary):\n",
    "    n = len(ary)\n",
    "    for end in range(1, n):\n",
    "        for cur in range(end, 0, -1):\n",
    "            if  (ary[cur-1] > ary[cur]):\n",
    "                ary[cur-1], ary[cur] = ary[cur], ary[cur-1]\n",
    "    return ary\n",
    "\n",
    "## 전역 변수 선언 부분 ##\n",
    "dataAry = [188, 162, 168, 120, 50,150, 177, 105]\n",
    "\n",
    "## 메인 코드 부분 ##\n",
    "print('정렬 전 -->', dataAry)\n",
    "dataAry = insertionSort(dataAry)\n",
    "print('정렬 후 -->', dataAry)"
   ]
  },
  {
   "cell_type": "markdown",
   "id": "da865ad7",
   "metadata": {},
   "source": [
    "### Code11-08.py 파일명으로 내림차순 정렬"
   ]
  },
  {
   "cell_type": "code",
   "execution_count": 3,
   "id": "2736cae2",
   "metadata": {},
   "outputs": [
    {
     "name": "stdout",
     "output_type": "stream",
     "text": [
      "파일명 역순 정렬 --> ['zh-phonetic.xml', 'zh-dayi.xml', 'zh-changjei.xml', 'wab32res.dll.mui', 'wab32res.dll.mui', 'wab32res.dll', 'wab32.dll', 'vstoee90.tlb', 'vstoee100.tlb', 'vstoee.dll', 'vsjitdebuggerps.dll', 'verisign.bmp', 'vcruntime140_1.dll', 'vcruntime140.dll', 'vccorlib140.dll', 'ucrtbase.dll', 'tpcps.dll', 'tiptsf.dll', 'tipskins.dll', 'tipresx.dll.mui', 'tipresx.dll.mui', 'tipresx.dll.mui', 'tipresx.dll.mui', 'tipresx.dll.mui', 'tipresx.dll.mui', 'tipresx.dll.mui', 'tipresx.dll.mui', 'tipresx.dll.mui', 'tipresx.dll.mui', 'tipresx.dll.mui', 'tipresx.dll.mui', 'tipresx.dll.mui', 'tipresx.dll.mui', 'tipresx.dll.mui', 'tipresx.dll.mui', 'tipresx.dll.mui', 'tipresx.dll.mui', 'tipresx.dll.mui', 'tipresx.dll.mui', 'tipresx.dll.mui', 'tipresx.dll.mui', 'tipresx.dll.mui', 'tipresx.dll.mui', 'tipresx.dll.mui', 'tipresx.dll.mui', 'tipresx.dll.mui', 'tipresx.dll.mui', 'tipresx.dll.mui', 'tipresx.dll.mui', 'tipresx.dll.mui', 'tipresx.dll.mui', 'tipresx.dll.mui', 'tipresx.dll.mui', 'tipresx.dll.mui', 'tipresx.dll.mui', 'tipresx.dll.mui', 'tipresx.dll.mui', 'tipresx.dll', 'tabskb.dll.mui', 'tabskb.dll.mui', 'tabskb.dll', 'symbols.xml', 'symbase.xml', 'sqlxmlx.rll.mui', 'sqlxmlx.rll.mui', 'sqlxmlx.rll', 'sqlxmlx.dll', 'sqloledb.rll.mui', 'sqloledb.rll.mui', 'sqloledb.rll', 'sqloledb.dll', 'rtscom.dll.mui', 'rtscom.dll.mui', 'rtscom.dll', 'policy.dll', 'pkeyconfig.companion.dll', 'pkeyconfig-office.xrm-ms', 'pidgenx.dll', 'pdmui.dll', 'pdmui.dll', 'pdmui.dll', 'pdmui.dll', 'pdmui.dll', 'pdmui.dll', 'pdmui.dll', 'pdmui.dll', 'pdmui.dll', 'pdmui.dll', 'pdmui.dll', 'pdmui.dll', 'pdmui.dll', 'pdmui.dll', 'pdmproxy140.dll', 'pdmproxy100.dll', 'pdm.dll', 'oskpredbase.xml', 'oskpred.xml', 'osknumpadbase.xml', 'osknumpad.xml', 'osknavbase.xml', 'osknav.xml', 'oskmenubase.xml', 'oskmenu.xml', 'oskclearuibase.xml', 'oskclearui.xml', 'oledbvbs.inc', 'oledbjvs.inc', 'oledb32r.dll.mui', 'oledb32r.dll.mui', 'oledb32r.dll', 'oledb32.dll', 'offreg.dll', 'officesvcmgrschedule.xml', 'officesvcmgr.exe', 'officeinventory.dll', 'msxactps.dll', 'msvcr120.dll', 'msvcp140.dll', 'msvcp120.dll', 'msix.dll', 'msinfo32.exe.mui', 'msinfo32.exe.mui', 'msinfo32.exe', 'mshwkorr.dll', 'mshwkor.dll', 'mshwgst.dll', 'mshwLatin.dll.mui', 'mshwLatin.dll.mui', 'mshwLatin.dll', 'msenvp.dll', 'msenv90p.dll', 'msenv80p.dll', 'msenv2p.dll', 'msenv141p.dll', 'msenv140p.dll', 'msenv121p.dll', 'msenv120p.dll', 'msenv110p.dll', 'msenv100p.dll', 'msdia90.dll', 'msdia100.dll', 'msdfmap.dll', 'msdbg2.dll', 'msdatl3.dll', 'msdasqlr.dll.mui', 'msdasqlr.dll.mui', 'msdasqlr.dll', 'msdasql.dll', 'msdaremr.dll.mui', 'msdaremr.dll.mui', 'msdaremr.dll', 'msdarem.dll', 'msdaps.dll', 'msdaprst.dll', 'msdaprsr.dll.mui', 'msdaprsr.dll.mui', 'msdaprsr.dll', 'msdaosp.dll', 'msadrh15.dll', 'msadox28.tlb', 'msadox.dll', 'msador28.tlb', 'msador15.dll', 'msadomd28.tlb', 'msadomd.dll', 'msado60.tlb', 'msado28.tlb', 'msado27.tlb', 'msado26.tlb', 'msado25.tlb', 'msado21.tlb', 'msado20.tlb', 'msado15.dll', 'msader15.dll.mui', 'msader15.dll.mui', 'msader15.dll', 'msaddsr.dll.mui', 'msaddsr.dll.mui', 'msaddsr.dll', 'msadds.dll', 'msadcor.dll.mui', 'msadcor.dll.mui', 'msadcor.dll', 'msadco.dll', 'msadcer.dll.mui', 'msadcer.dll.mui', 'msadcer.dll', 'msadce.dll', 'mraut.dll', 'mip.exe.mui', 'mip.exe', 'micaut.dll.mui', 'micaut.dll', 'manageability.dll', 'main.xml', 'kor-kor.xml', 'ko-kr.xml', 'keypadbase.xml', 'keypad.xml', 'ja-jp.xml', 'ja-jp-sym.xml', 'ipstr.xml', 'ipssve.xml', 'ipssrl.xml', 'ipssrb.xml', 'ipsrus.xml', 'ipsrom.xml', 'ipsptg.xml', 'ipsptb.xml', 'ipsplk.xml', 'ipsnor.xml', 'ipsnld.xml', 'ipskor.xml', 'ipsjpn.xml', 'ipsita.xml', 'ipsid.xml', 'ipshrv.xml', 'ipshi.xml', 'ipshe.xml', 'ipsfra.xml', 'ipsfin.xml', 'ipsesp.xml', 'ipsen.xml', 'ipsel.xml', 'ipsdeu.xml', 'ipsdan.xml', 'ipscsy.xml', 'ipscht.xml', 'ipschs.xml', 'ipscat.xml', 'ipsar.xml', 'inventory.dll', 'insertbase.xml', 'insert.xml', 'i640.hash', 'i640.cab.cat', 'hwrlatinlm.dat', 'hwrcommonlm.dat', 'ea.xml', 'ea-sym.xml', 'contextp.dll', 'concrt140.dll', 'coloader80.dll', 'c2rclient.db', 'c2r64werhandler.dll', 'c2r32werhandler.dll', 'base_rtl.xml', 'base_kor.xml', 'base_jpn.xml', 'base_heb.xml', 'base_ca.xml', 'base_altgr.xml', 'baseAltGr_rtl.xml', 'base.xml', 'auxpad.xml', 'auxbase.xml', 'appvcleaner.exe', 'api-ms-win-crt-utility-l1-1-0.dll', 'api-ms-win-crt-time-l1-1-0.dll', 'api-ms-win-crt-string-l1-1-0.dll', 'api-ms-win-crt-stdio-l1-1-0.dll', 'api-ms-win-crt-runtime-l1-1-0.dll', 'api-ms-win-crt-process-l1-1-0.dll', 'api-ms-win-crt-private-l1-1-0.dll', 'api-ms-win-crt-multibyte-l1-1-0.dll', 'api-ms-win-crt-math-l1-1-0.dll', 'api-ms-win-crt-locale-l1-1-0.dll', 'api-ms-win-crt-heap-l1-1-0.dll', 'api-ms-win-crt-filesystem-l1-1-0.dll', 'api-ms-win-crt-environment-l1-1-0.dll', 'api-ms-win-crt-convert-l1-1-0.dll', 'api-ms-win-crt-conio-l1-1-0.dll', 'api-ms-win-core-xstate-l2-1-0.dll', 'api-ms-win-core-timezone-l1-1-0.dll', 'api-ms-win-core-synch-l1-2-0.dll', 'api-ms-win-core-processthreads-l1-1-1.dll', 'api-ms-win-core-localization-l1-2-0.dll', 'api-ms-win-core-file-l2-1-0.dll', 'api-ms-win-core-file-l1-2-0.dll', 'adovbs.inc', 'adojavas.inc', 'adcvbs.inc', 'adcjavas.inc', 'VsLogP.dll', 'VSTOMessageProvider.dll', 'VSTOLoaderUI.dll', 'VSTOLoaderUI.dll', 'VSTOLoader.dll', 'VSTOInstallerUI.dll', 'VSTOInstallerUI.dll', 'VSTOInstaller.exe', 'VSCryptoInfo.dll', 'VGX.dll', 'TipTsf.dll.mui', 'TipTsf.dll.mui', 'TipRes.dll.mui', 'TipRes.dll.mui', 'TipRes.dll', 'ThirdPartyNotices.ko-kr.txt', 'ThirdPartyNotices.MSHWLatin.txt', 'TextMgrP.dll', 'TabTip.exe.mui', 'TabTip.exe.mui', 'TabTip.exe', 'TabIpsps.dll', 'SubsystemController.man', 'StreamServer.dll', 'SharedPerformance.man', 'ShapeCollector.exe.mui', 'ShapeCollector.exe.mui', 'ShapeCollector.exe', 'ServiceWatcherSchedule.xml', 'RepoMan.dll', 'OfficeClickToRun.exe', 'OfficeC2RCom.dll', 'OfficeC2RClient.exe', 'Microsoft.Ink.dll', 'MergeMod.dll', 'MavInject32.exe', 'MSADDNDR.OLB', 'LICLUA.EXE', 'IpsPlugin.dll', 'IpsMigrationPlugin.dll', 'IntegratedOffice.exe', 'InspectorOfficeGadget.exe', 'InputPersonalization.exe.mui', 'InputPersonalization.exe.mui', 'InputPersonalization.exe', 'InkObj.dll.mui', 'InkObj.dll.mui', 'InkObj.dll', 'InkDiv.dll', 'FrequentOfficeUpdateSchedule.xml', 'Content.xml', 'CodeMarkersEtwRc.dll', 'CodeMarkersEtw.man', 'ClientEventLogMessages.man', 'ClientCapabilities.json', 'C2RUI.dll', 'C2RINTL.zh-tw.dll', 'C2RINTL.zh-cn.dll', 'C2RINTL.vi-vn.dll', 'C2RINTL.uk-ua.dll', 'C2RINTL.tr-tr.dll', 'C2RINTL.th-th.dll', 'C2RINTL.sv-se.dll', 'C2RINTL.sr-latn-rs.dll', 'C2RINTL.sl-si.dll', 'C2RINTL.sk-sk.dll', 'C2RINTL.ru-ru.dll', 'C2RINTL.ro-ro.dll', 'C2RINTL.pt-pt.dll', 'C2RINTL.pt-br.dll', 'C2RINTL.pl-pl.dll', 'C2RINTL.nl-nl.dll', 'C2RINTL.nb-no.dll', 'C2RINTL.ms-my.dll', 'C2RINTL.lv-lv.dll', 'C2RINTL.lt-lt.dll', 'C2RINTL.ko-kr.dll', 'C2RINTL.kk-kz.dll', 'C2RINTL.ja-jp.dll', 'C2RINTL.it-it.dll', 'C2RINTL.id-id.dll', 'C2RINTL.hu-hu.dll', 'C2RINTL.hr-hr.dll', 'C2RINTL.hi-in.dll', 'C2RINTL.he-il.dll', 'C2RINTL.fr-fr.dll', 'C2RINTL.fr-ca.dll', 'C2RINTL.fi-fi.dll', 'C2RINTL.et-ee.dll', 'C2RINTL.es-mx.dll', 'C2RINTL.es-es.dll', 'C2RINTL.en-us.dll', 'C2RINTL.en-gb.dll', 'C2RINTL.el-gr.dll', 'C2RINTL.de-de.dll', 'C2RINTL.da-dk.dll', 'C2RINTL.cs-cz.dll', 'C2RINTL.bg-bg.dll', 'C2RINTL.ar-sa.dll', 'C2RHeartbeatConfig.xml', 'C2R64.dll', 'C2R32.dll', 'AppvIsvSubsystems64_arm64x.dll', 'AppvIsvSubsystems64.dll', 'AppvIsvSubsystems32_msix.dll', 'AppvIsvSubsystems32.dll', 'AppVShNotify.exe', 'AppVScripting.dll', 'AppVPolicy.dll', 'AppVOrchestration.dll', 'AppVManifest.dll', 'AppVIsvVirtualization.dll', 'AppVIsvSubsystems64_msix.dll', 'AppVIsvSubsystemController.dll', 'AppVIsvStreamingManager.dll', 'AppVIsvApi.dll', 'AppVIntegration.dll', 'AppVFileSystemMetadata.dll', 'AppVClientIsv.man', 'AppVClient.man', 'AppVCatalog.dll', 'ApiClient.dll', 'Alphabet.xml']\n"
     ]
    }
   ],
   "source": [
    "import os\n",
    "\n",
    "## 클래스와 함수 선언 부분 ##\n",
    "def makeFileList(folderName):\n",
    "    fnameAry = []\n",
    "    for dirName, subDirList, fnames in os.walk(folderName):\n",
    "        for fname in fnames:\n",
    "            fnameAry.append(fname)\n",
    "    return fnameAry\n",
    "\n",
    "def insertionSort(ary):\n",
    "    n = len(ary)\n",
    "    for end in range(1, n):\n",
    "        for cur in range(end, 0, -1):\n",
    "            if (ary[cur-1] < ary[cur]):\n",
    "                ary[cur-1], ary[cur] = ary[cur], ary[cur-1]\n",
    "    return ary\n",
    "\n",
    "## 전역 변수 선언 부분 ##\n",
    "fileAry = []\n",
    "\n",
    "## 메인 코드 부분 ##\n",
    "fileAry = makeFileList('C:/Program Files/Common Files')\n",
    "fileAry = insertionSort(fileAry)\n",
    "print('파일명 역순 정렬 -->', fileAry)"
   ]
  },
  {
   "cell_type": "markdown",
   "id": "c833fda9",
   "metadata": {},
   "source": [
    "### Code12-02.py 개선된 버블 정렬의 구현"
   ]
  },
  {
   "cell_type": "code",
   "execution_count": 4,
   "id": "d5e93171",
   "metadata": {},
   "outputs": [
    {
     "name": "stdout",
     "output_type": "stream",
     "text": [
      "정렬 전 --> [50, 105, 120, 188, 150, 162, 168, 177]\n",
      "#사이클--> [50, 105, 120, 188, 150, 162, 168, 177]\n",
      "#사이클--> [50, 105, 120, 150, 162, 168, 177, 188]\n",
      "정렬 후 --> [50, 105, 120, 150, 162, 168, 177, 188]\n"
     ]
    }
   ],
   "source": [
    "## 클래스와 함수 선언 부분 ##\n",
    "def bubbleSort(ary):\n",
    "    n = len(ary)\n",
    "    for end in range(n-1, 0, -1):\n",
    "        changeYN = False\n",
    "        print('#사이클-->', ary)\n",
    "        for cur in range(0, end):\n",
    "            if (ary[cur] > ary[cur+1]):\n",
    "                ary[cur], ary[cur+1] = ary[cur+1], ary[cur]\n",
    "                changeYN = True\n",
    "        if not changeYN:\n",
    "            break\n",
    "    return ary\n",
    "\n",
    "## 전역 변수 선언 부분 ##\n",
    "dataAry = [50, 105, 120, 188, 150, 162, 168, 177]\n",
    "\n",
    "## 메인 코드 부분 ##\n",
    "print('정렬 전 -->', dataAry)\n",
    "dataAry = bubbleSort(dataAry)\n",
    "print('정렬 후 -->', dataAry)"
   ]
  },
  {
   "cell_type": "markdown",
   "id": "03e7cd7f",
   "metadata": {},
   "source": [
    "### Code12-05.py 퀵 정렬의 일반적인 구현"
   ]
  },
  {
   "cell_type": "code",
   "execution_count": 5,
   "id": "3e6c732b",
   "metadata": {},
   "outputs": [
    {
     "name": "stdout",
     "output_type": "stream",
     "text": [
      "정렬 전 --> [188, 150, 168, 162, 105, 120, 177, 50]\n",
      "정렬 후 --> [50, 105, 120, 150, 162, 168, 177, 188]\n"
     ]
    }
   ],
   "source": [
    "## 클래스와 함수 선언 부분 ##\n",
    "def qSort(arr, start, end):\n",
    "    if end <= start:\n",
    "        return\n",
    "    \n",
    "    low = start\n",
    "    high = end\n",
    "    \n",
    "    pivot = arr[(low + high) // 2] #작은 값은 왼쪽, 큰 값은 오른쪽으로 분리\n",
    "    while low <= high:\n",
    "        while arr[low] < pivot:\n",
    "            low += 1\n",
    "        while arr[high] > pivot:\n",
    "            high -= 1\n",
    "        if low <= high:\n",
    "            arr[low], arr[high] = arr[high], arr[low]\n",
    "            low, high = low + 1, high - 1\n",
    "            \n",
    "    mid = low\n",
    "    \n",
    "    qSort(arr, start, mid-1)\n",
    "    qSort(arr, mid, end)\n",
    "    \n",
    "def quickSort(ary):\n",
    "    qSort(ary, 0, len(ary) - 1)\n",
    "    \n",
    "## 전역 변수 선언 부분 ##\n",
    "dataAry = [188, 150, 168, 162, 105, 120,177, 50]\n",
    "\n",
    "## 메인 코드 부분 ##\n",
    "print('정렬 전 -->', dataAry)\n",
    "quickSort(dataAry)\n",
    "print('정렬 후 -->', dataAry)"
   ]
  }
 ],
 "metadata": {
  "kernelspec": {
   "display_name": "Python 3 (ipykernel)",
   "language": "python",
   "name": "python3"
  },
  "language_info": {
   "codemirror_mode": {
    "name": "ipython",
    "version": 3
   },
   "file_extension": ".py",
   "mimetype": "text/x-python",
   "name": "python",
   "nbconvert_exporter": "python",
   "pygments_lexer": "ipython3",
   "version": "3.9.12"
  }
 },
 "nbformat": 4,
 "nbformat_minor": 5
}
