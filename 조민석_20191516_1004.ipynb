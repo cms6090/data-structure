{
 "cells": [
  {
   "cell_type": "markdown",
   "id": "1b216918",
   "metadata": {},
   "source": [
    "# 2022년 10월 04일 파이썬 실습 5주차-2\n",
    "# 학번 : 20191516\n",
    "# 이름 : 조민석"
   ]
  },
  {
   "cell_type": "markdown",
   "id": "e68680e0",
   "metadata": {},
   "source": [
    "## 연습문제\n",
    "### 1. 3, 4\n",
    "### 2. node1.link = node1\n",
    "### 3. 1 : pre.link\n",
    "### 3. 2 : current.link\n",
    "### 3. 3 : node3\n",
    "### 4. 3\n",
    "### 5. 1 : current = head\n",
    "### 5. 2 : last = last.link\n",
    "### 5. 3 : last.link = head\n",
    "### 6. 1 : return current           2 : current.link != head         3 : current = current.link "
   ]
  },
  {
   "cell_type": "markdown",
   "id": "491b8a35",
   "metadata": {},
   "source": [
    "### 응용예제 01. 현재 위치부터 가까운 편의점 관리하기"
   ]
  },
  {
   "cell_type": "code",
   "execution_count": 6,
   "id": "0408648c",
   "metadata": {},
   "outputs": [
    {
     "name": "stdout",
     "output_type": "stream",
     "text": [
      "I 편의점, 거리: 71.7007670809734\n",
      "F 편의점, 거리: 76.94153624668537\n",
      "C 편의점, 거리: 80.0\n",
      "B 편의점, 거리: 84.02380615040002\n",
      "D 편의점, 거리: 85.98837130682264\n",
      "A 편의점, 거리: 90.91754506144565\n",
      "E 편의점, 거리: 92.19544457292888\n",
      "G 편의점, 거리: 93.86160024205851\n",
      "H 편의점, 거리: 101.35580891098448\n",
      "\n"
     ]
    }
   ],
   "source": [
    "import random\n",
    "import math\n",
    "\n",
    "## 클래스와 함수 선언 부분 ##\n",
    "class Node():\n",
    "    def __init__(self):\n",
    "        self.data = None\n",
    "        self.link = None\n",
    "        \n",
    "def printStores(start):\n",
    "    current = start\n",
    "    if current == None:\n",
    "        return\n",
    "    \n",
    "    while current.link != head:\n",
    "        current = current.link\n",
    "        x, y = current.data[1:]\n",
    "        print(current.data[0], '편의점, 거리:', math.sqrt(x*x + y*y))\n",
    "    print()\n",
    "    \n",
    "def makeStoreList(store):\n",
    "    global memory, head, current, pre\n",
    "    \n",
    "    node = Node()\n",
    "    node.data = store\n",
    "    memory.append(node)\n",
    "    \n",
    "    if head == None:          # 첫 번째 편의점\n",
    "        head = node\n",
    "        node.link = head\n",
    "        return\n",
    "    \n",
    "    # 새 편의점이 첫 번째 편의점보다 가까우면 첫 편의점으로 만듦\n",
    "    nodeX, nodeY = node.data[1:]\n",
    "    nodeDist = math.sqrt(nodeX*nodeX + nodeY*nodeY)\n",
    "    headX, headY = head.data[1:]\n",
    "    headDist = math.sqrt(headX*headX + headY*headY)\n",
    "    \n",
    "    if headDist > nodeDist:    # 헤드 앞에 삽입\n",
    "        node.link = head\n",
    "        last = head\n",
    "        while last.link != head:\n",
    "            last = last.link\n",
    "        last.link = node\n",
    "        head = node\n",
    "        return\n",
    "    \n",
    "    current = head             # 중간에 데이터를 넣을 경우\n",
    "    while current.link != head:\n",
    "        pre = current\n",
    "        current = current.link\n",
    "        currX, currY = current.data[1:]\n",
    "        currDist = math.sqrt(currX*currX + currY*currY)\n",
    "        if currDist > nodeDist:\n",
    "            pre.link = node\n",
    "            node.link = current\n",
    "            return\n",
    "    \n",
    "    current.link = node\n",
    "    node.link = head\n",
    "\n",
    "    \n",
    "## 전역 변수 선언 부분 ##\n",
    "memory = []\n",
    "head, current, pre = None, None, None\n",
    "\n",
    "## 메인 코드 부분 ##\n",
    "if __name__ == \"__main__\":\n",
    "    \n",
    "    storeArray = []\n",
    "    storeName = 'A'\n",
    "    for _ in range(10):\n",
    "        store = (storeName, random.randint(1,100), random.randint(1,100))\n",
    "        storeArray.append(store)\n",
    "        storeName = chr(ord(storeName) + 1)    # 편의점 이름음 A->B->C...으로 변경\n",
    "        \n",
    "    for store in storeArray:\n",
    "        makeStoreList(store)\n",
    "        \n",
    "    printStores(head)"
   ]
  },
  {
   "cell_type": "markdown",
   "id": "767c4d68",
   "metadata": {},
   "source": [
    "### 응용예제 02. 이중 연결 리스트 구현하기"
   ]
  },
  {
   "cell_type": "code",
   "execution_count": 11,
   "id": "8d09e825",
   "metadata": {},
   "outputs": [
    {
     "name": "stdout",
     "output_type": "stream",
     "text": [
      "정방향 -->  다현 정연 쯔위 사나 지효 \n",
      "역방향 --> 지효 사나 쯔위 정연 다현 "
     ]
    }
   ],
   "source": [
    "## 클래스와 함수 선언 부분 #\n",
    "class Node2():\n",
    "    def __init__(self):\n",
    "        self.plink = None    # 앞쪽 링크\n",
    "        self.data = None\n",
    "        self.nlink = None    # 뒤쪽 링크\n",
    "        \n",
    "def printNodes(start):\n",
    "    current = start\n",
    "    if current.nlink == None:\n",
    "        return\n",
    "    print(\"정방향 --> \", end = ' ')\n",
    "    print(current.data, end = ' ')\n",
    "    while current.nlink != None:\n",
    "        current = current.nlink\n",
    "        print(current.data, end = ' ')\n",
    "    print()\n",
    "    print(\"역방향 -->\", end = ' ')\n",
    "    print(current.data, end = ' ')\n",
    "    while current.plink != None:\n",
    "        current = current.plink\n",
    "        print(current.data, end = ' ')\n",
    "        \n",
    "## 전역 변수 선언 부분 ##\n",
    "memory = []\n",
    "head, current, pre = None, None, None\n",
    "dataArray = [\"다현\", \"정연\", \"쯔위\", \"사나\", \"지효\"]\n",
    "\n",
    "## 메인 코드 부분 ##\n",
    "if __name__ == \"__main__\":\n",
    "    \n",
    "    node = Node2()\n",
    "    node.data = dataArray[0]       # 첫 번째 노드\n",
    "    head = node\n",
    "    memory.append(node)\n",
    "    \n",
    "    for data in dataArray[1:]:    # 두 번째 이후 노드\n",
    "        pre = node\n",
    "        node = Node2()\n",
    "        node.data = data\n",
    "        pre.nlink = node\n",
    "        node.plink = pre\n",
    "        memory.append(node)\n",
    "    \n",
    "    printNodes(head)"
   ]
  }
 ],
 "metadata": {
  "kernelspec": {
   "display_name": "Python 3 (ipykernel)",
   "language": "python",
   "name": "python3"
  },
  "language_info": {
   "codemirror_mode": {
    "name": "ipython",
    "version": 3
   },
   "file_extension": ".py",
   "mimetype": "text/x-python",
   "name": "python",
   "nbconvert_exporter": "python",
   "pygments_lexer": "ipython3",
   "version": "3.9.12"
  }
 },
 "nbformat": 4,
 "nbformat_minor": 5
}
