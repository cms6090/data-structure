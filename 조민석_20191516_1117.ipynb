{
 "cells": [
  {
   "cell_type": "markdown",
   "id": "fa8304ae",
   "metadata": {},
   "source": [
    "# 2022년 11월 17일 파이썬 실습 12주차-1\n",
    "# 학번 : 20191516\n",
    "# 이름 : 조민석"
   ]
  },
  {
   "cell_type": "markdown",
   "id": "d597cbe4",
   "metadata": {},
   "source": [
    "### Code09-01.py 무방향 그래프 G1과 방향 그래프 G3의 구현"
   ]
  },
  {
   "cell_type": "code",
   "execution_count": 1,
   "id": "e0210a27",
   "metadata": {},
   "outputs": [
    {
     "name": "stdout",
     "output_type": "stream",
     "text": [
      "## G1 무방향 그래프 ##\n",
      "0 1 1 1 \n",
      "1 0 1 0 \n",
      "1 1 0 1 \n",
      "1 0 1 0 \n",
      "## G3 방향 그래프 ##\n",
      "0 1 1 0 \n",
      "0 0 0 0 \n",
      "0 0 0 0 \n",
      "1 0 1 0 \n"
     ]
    }
   ],
   "source": [
    "## 함수 선언 부분 ##\n",
    "class Graph():\n",
    "    def __init__(self, size):\n",
    "        self.SIZE = size\n",
    "        self.graph = [[0 for _ in range(size)] for _ in range(size)]\n",
    "        \n",
    "## 전역 변수 선언 부분 ##\n",
    "G1, G3 = None, None\n",
    "\n",
    "## 메인 코드 부분 ##\n",
    "G1 = Graph(4)\n",
    "G1.graph[0][1] = 1; G1.graph[0][2] = 1; G1.graph[0][3] = 1\n",
    "G1.graph[1][0] = 1; G1.graph[1][2] = 1\n",
    "G1.graph[2][0] = 1; G1.graph[2][1] = 1; G1.graph[2][3] = 1\n",
    "G1.graph[3][0] = 1; G1.graph[3][2] = 1\n",
    "\n",
    "print('## G1 무방향 그래프 ##')\n",
    "for row in range(4):\n",
    "    for col in range(4):\n",
    "        print(G1.graph[row][col], end = ' ')\n",
    "    print()\n",
    "    \n",
    "G3 = Graph(4)\n",
    "G3.graph[0][1] = 1; G3.graph[0][2] = 1\n",
    "G3.graph[3][0] = 1; G3.graph[3][2] = 1\n",
    "\n",
    "print('## G3 방향 그래프 ##')\n",
    "for row in range(4):\n",
    "    for col in range(4):\n",
    "        print(G3.graph[row][col], end = ' ')\n",
    "    print()"
   ]
  },
  {
   "cell_type": "markdown",
   "id": "1a8e676b",
   "metadata": {},
   "source": [
    "### SELF STUDY 9-1"
   ]
  },
  {
   "cell_type": "code",
   "execution_count": 2,
   "id": "41fc88ca",
   "metadata": {},
   "outputs": [
    {
     "name": "stdout",
     "output_type": "stream",
     "text": [
      "## 무방향 그래프 ##\n",
      "0 0 0 1 \n",
      "0 0 1 1 \n",
      "0 1 0 0 \n",
      "1 1 0 0 \n"
     ]
    }
   ],
   "source": [
    "## 함수 선언 부분 ##\n",
    "class Graph():\n",
    "    def __init__(self, size):\n",
    "        self.SIZE = size\n",
    "        self.graph = [[0 for _ in range(size)] for _ in range(size)]\n",
    "        \n",
    "## 전역 변수 선언 부분 ##\n",
    "G1, G3 = None, None\n",
    "\n",
    "## 메인 코드 부분 ##\n",
    "G1 = Graph(4)\n",
    "G1.graph[0][3] = 1\n",
    "G1.graph[1][2] = 1; G1.graph[1][3] = 1\n",
    "G1.graph[2][1] = 1\n",
    "G1.graph[3][0] = 1; G1.graph[3][1] = 1\n",
    "\n",
    "print('## 무방향 그래프 ##')\n",
    "for row in range(4):\n",
    "    for col in range(4):\n",
    "        print(G1.graph[row][col], end = ' ')\n",
    "    print()"
   ]
  },
  {
   "cell_type": "markdown",
   "id": "e3c4b789",
   "metadata": {},
   "source": [
    "### Code09-02.py 개선된 무방향 그래프 G1"
   ]
  },
  {
   "cell_type": "code",
   "execution_count": 3,
   "id": "cfdfdc43",
   "metadata": {},
   "outputs": [
    {
     "name": "stdout",
     "output_type": "stream",
     "text": [
      "## G1 무방향 그래프 ##\n",
      "  문별 솔라 휘인 쯔위 선미 화사 \n",
      "문별 0 1 1 0 0 0 \n",
      "솔라 1 0 0 1 0 0 \n",
      "휘인 1 0 0 1 0 0 \n",
      "쯔위 0 1 1 0 1 1 \n",
      "선미 0 0 0 1 0 1 \n",
      "화사 0 0 0 1 1 0 \n",
      "\n"
     ]
    }
   ],
   "source": [
    "## 클래스와 함수 선언 부분 ##\n",
    "class Graph():\n",
    "    def __init__(self, size):\n",
    "        self.SIZE = size\n",
    "        self.graph = [[0 for _ in range(size)] for _ in range(size)]\n",
    "        \n",
    "def printGraph(g):\n",
    "    print(' ', end = ' ')\n",
    "    for v in range(g.SIZE):\n",
    "        print(nameAry[v], end = ' ')\n",
    "    print()\n",
    "    for row in range(g.SIZE):\n",
    "        print(nameAry[row], end = ' ')\n",
    "        for col in range(g.SIZE):\n",
    "            print(g.graph[row][col], end = ' ')\n",
    "        print()        \n",
    "    print()\n",
    "    \n",
    "\n",
    "## 전역 변수 선언 부분 ##\n",
    "G1 = None\n",
    "nameAry = ['문별', '솔라', '휘인', '쯔위', '선미', '화사']\n",
    "문별, 솔라, 휘인, 쯔위, 선미, 화사 = 0, 1, 2, 3, 4, 5\n",
    "\n",
    "\n",
    "## 메인 코드 부분 ##\n",
    "gSize = 6\n",
    "G1 = Graph(gSize)\n",
    "G1.graph[문별][솔라] = 1; G1.graph[문별][휘인] = 1\n",
    "G1.graph[솔라][문별] = 1; G1.graph[솔라][쯔위] = 1\n",
    "G1.graph[휘인][문별] = 1; G1.graph[휘인][쯔위] = 1\n",
    "G1.graph[쯔위][솔라] = 1; G1.graph[쯔위][휘인] = 1; G1.graph[쯔위][선미] = 1; G1.graph[쯔위][화사] = 1\n",
    "G1.graph[선미][쯔위] = 1; G1.graph[선미][화사] = 1\n",
    "G1.graph[화사][쯔위] = 1; G1.graph[화사][선미] = 1\n",
    "\n",
    "print('## G1 무방향 그래프 ##')\n",
    "printGraph(G1)"
   ]
  },
  {
   "cell_type": "markdown",
   "id": "e66454c4",
   "metadata": {},
   "source": [
    "### Code09-03.py 깊이 우선 탐색의 구현"
   ]
  },
  {
   "cell_type": "code",
   "execution_count": 4,
   "id": "fea0ee96",
   "metadata": {},
   "outputs": [
    {
     "name": "stdout",
     "output_type": "stream",
     "text": [
      "## G1 무방향 그래프 ##\n",
      "0 0 1 1 \n",
      "0 0 1 0 \n",
      "1 1 0 1 \n",
      "1 0 1 0 \n",
      "방문 순서 --> A C B D "
     ]
    }
   ],
   "source": [
    "## 클래스와 함수 선언 부분 ##\n",
    "class Graph():\n",
    "    def __init__(self, size):\n",
    "        self.SIZE = size\n",
    "        self.graph = [[0 for _ in range(size)] for _ in range(size)]\n",
    "        \n",
    "## 전역 변수 선언 부분 ##\n",
    "G1 = None\n",
    "stack = []\n",
    "visitedAry = []     # 방문한 정점\n",
    "\n",
    "## 메인 코드 부분 ##\n",
    "G1 = Graph(4)\n",
    "G1.graph[0][2] = 1; G1.graph[0][3] = 1\n",
    "G1.graph[1][2] = 1\n",
    "G1.graph[2][0] = 1; G1.graph[2][1] = 1; G1.graph[2][3] = 1\n",
    "G1.graph[3][0] = 1; G1.graph[3][2] = 1\n",
    "\n",
    "print('## G1 무방향 그래프 ##')\n",
    "for row in range(4):\n",
    "    for col in range(4):\n",
    "        print(G1.graph[row][col], end = ' ')\n",
    "    print()\n",
    "    \n",
    "current = 0        # 시작 정점\n",
    "stack.append(current)\n",
    "visitedAry.append(current)\n",
    "\n",
    "while(len(stack) != 0):\n",
    "    next = None\n",
    "    for vertex in range(4):\n",
    "        if G1.graph[current][vertex] == 1:\n",
    "            if vertex in visitedAry:        # 방문한 적이 있는 정점이면 탈락\n",
    "                pass\n",
    "            else:                           # 방문한 적이 없으면 다음 정점으로 지정\n",
    "                next = vertex\n",
    "                break\n",
    "                \n",
    "    if next != None:                       # 다음에 방문할 정점이 있는 경우\n",
    "        current = next\n",
    "        stack.append(current)\n",
    "        visitedAry.append(current)\n",
    "    else:                                  # 다음에 방문할 정점이 없는 경우\n",
    "        current = stack.pop()\n",
    "        \n",
    "        \n",
    "print('방문 순서 -->', end = ' ')\n",
    "for i in visitedAry:\n",
    "    print(chr(ord('A')+i), end = ' ')"
   ]
  },
  {
   "cell_type": "markdown",
   "id": "f4c2c15b",
   "metadata": {},
   "source": [
    "### SELF STUDY 9-2"
   ]
  },
  {
   "cell_type": "code",
   "execution_count": 5,
   "id": "ffe8fc4b",
   "metadata": {},
   "outputs": [
    {
     "name": "stdout",
     "output_type": "stream",
     "text": [
      "방문 순서 --> 문별 솔라 쯔위 휘인 선미 화사 "
     ]
    }
   ],
   "source": [
    "## 클래스와 함수 선언 부분 ##\n",
    "class Graph():\n",
    "    def __init__(self, size):\n",
    "        self.SIZE = size\n",
    "        self.graph = [[0 for _ in range(size)] for _ in range(size)] \n",
    "\n",
    "## 전역 변수 선언 부분 ##\n",
    "G1 = None\n",
    "nameAry = ['문별', '솔라', '휘인', '쯔위', '선미', '화사']\n",
    "문별, 솔라, 휘인, 쯔위, 선미, 화사 = 0, 1, 2, 3, 4, 5\n",
    "stack = []\n",
    "visitedAry = []\n",
    "\n",
    "\n",
    "## 메인 코드 부분 ##\n",
    "G1 = Graph(6)\n",
    "G1.graph[문별][솔라] = 1; G1.graph[문별][휘인] = 1\n",
    "G1.graph[솔라][문별] = 1; G1.graph[솔라][쯔위] = 1\n",
    "G1.graph[휘인][문별] = 1; G1.graph[휘인][쯔위] = 1\n",
    "G1.graph[쯔위][솔라] = 1; G1.graph[쯔위][휘인] = 1; G1.graph[쯔위][선미] = 1; G1.graph[쯔위][화사] = 1\n",
    "G1.graph[선미][쯔위] = 1; G1.graph[선미][화사] = 1\n",
    "G1.graph[화사][쯔위] = 1; G1.graph[화사][선미] = 1\n",
    "\n",
    "current = 문별\n",
    "stack.append(current)\n",
    "visitedAry.append(current)\n",
    "\n",
    "while(len(stack) != 0):\n",
    "    next = None\n",
    "    for vertex in range(6):\n",
    "        if G1.graph[current][vertex] == 1:\n",
    "            if vertex in visitedAry:        # 방문한 적이 있는 정점이면 탈락\n",
    "                pass\n",
    "            else:                           # 방문한 적이 없으면 다음 정점으로 지정\n",
    "                next = vertex\n",
    "                break\n",
    "                \n",
    "    if next != None:                       # 다음에 방문할 정점이 있는 경우\n",
    "        current = next\n",
    "        stack.append(current)\n",
    "        visitedAry.append(current)\n",
    "    else:                                  # 다음에 방문할 정점이 없는 경우\n",
    "        current = stack.pop()\n",
    "        \n",
    "        \n",
    "print('방문 순서 -->', end = ' ')\n",
    "for i in visitedAry:\n",
    "    print(nameAry[i], end = ' ')"
   ]
  }
 ],
 "metadata": {
  "kernelspec": {
   "display_name": "Python 3 (ipykernel)",
   "language": "python",
   "name": "python3"
  },
  "language_info": {
   "codemirror_mode": {
    "name": "ipython",
    "version": 3
   },
   "file_extension": ".py",
   "mimetype": "text/x-python",
   "name": "python",
   "nbconvert_exporter": "python",
   "pygments_lexer": "ipython3",
   "version": "3.9.12"
  }
 },
 "nbformat": 4,
 "nbformat_minor": 5
}
