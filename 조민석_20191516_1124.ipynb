{
 "cells": [
  {
   "cell_type": "markdown",
   "id": "fa8304ae",
   "metadata": {},
   "source": [
    "# 2022년 11월 24일 파이썬 실습 13주차-1\n",
    "# 학번 : 20191516\n",
    "# 이름 : 조민석"
   ]
  },
  {
   "cell_type": "markdown",
   "id": "14007373",
   "metadata": {},
   "source": [
    "### 친구가 연락되는지 확인"
   ]
  },
  {
   "cell_type": "code",
   "execution_count": 1,
   "id": "d5bd1820",
   "metadata": {},
   "outputs": [
    {
     "name": "stdout",
     "output_type": "stream",
     "text": [
      "화사가 연락이 안됨 ㅠ\n"
     ]
    }
   ],
   "source": [
    "class Graph():\n",
    "    def __init__(self, size):\n",
    "        self.SIZE = size\n",
    "        self.graph = [[0 for _ in range(size)] for _ in range(size)]\n",
    "\n",
    "G1 = None\n",
    "nameAry = ['문별', '솔라', '휘인', '쯔위', '선미', '화사']\n",
    "문별, 솔라, 휘인, 쯔위, 선미, 화사 = 0, 1, 2, 3, 4, 5\n",
    "        \n",
    "gSize = 6\n",
    "G1 = Graph(gSize)\n",
    "G1.graph[문별][솔라] = 1; G1.graph[문별][휘인] = 1;\n",
    "G1.graph[솔라][문별] = 1; G1.graph[솔라][쯔위] = 1;\n",
    "G1.graph[휘인][문별] = 1; G1.graph[휘인][쯔위] = 1;\n",
    "G1.graph[쯔위][솔라] = 1; G1.graph[쯔위][휘인] = 1; G1.graph[쯔위][선미] = 1;\n",
    "G1.graph[선미][쯔위] = 1;\n",
    "\n",
    "stack = []\n",
    "visitedAry = []   # 방문한 정점\n",
    "\n",
    "current = 0       # 시작 정점\n",
    "stack.append(current)\n",
    "visitedAry.append(current)\n",
    "\n",
    "while (len(stack) != 0):\n",
    "    next = None\n",
    "    for vertex in range(gSize):\n",
    "        if G1.graph[current][vertex] != 0:\n",
    "            if vertex in visitedAry :    # 방문한 적이 있는 정점이면 탈락\n",
    "                pass\n",
    "            else:                        # 방문한 적이 없으면 다음 정점으로 지정\n",
    "                next = vertex\n",
    "                break\n",
    "                \n",
    "    if next != None:                    # 다음에 방문할 정점이 있는 경우\n",
    "        current = next\n",
    "        stack.append(current)\n",
    "        visitedAry.append(current)\n",
    "    else:                               # 다음에 방문할 정점이 없는 경우\n",
    "        current = stack.pop()\n",
    "        \n",
    "if 화사 in visitedAry:\n",
    "    print('화사가 연락이 됨')\n",
    "else:\n",
    "    print('화사가 연락이 안됨 ㅠ')"
   ]
  },
  {
   "cell_type": "markdown",
   "id": "40465a21",
   "metadata": {},
   "source": [
    "### Code09-05.py 최소 비용으로 자전거 도로를 건성하는 전체 코드"
   ]
  },
  {
   "cell_type": "code",
   "execution_count": 2,
   "id": "604bf8bf",
   "metadata": {
    "scrolled": true
   },
   "outputs": [
    {
     "name": "stdout",
     "output_type": "stream",
     "text": [
      "## 자전거 도로 건설을 위한 전체 연결도 ##\n",
      "  춘천 서울 속초 대전 광주 부산 \n",
      "춘천 0 10 15 0 0 0 \n",
      "서울 10 0 40 11 50 0 \n",
      "속초 15 40 0 12 0 0 \n",
      "대전 0 11 12 0 20 30 \n",
      "광주 0 50 0 20 0 25 \n",
      "부산 0 0 0 30 25 0 \n",
      "\n",
      "## 최소 비용의 자전거 도로 연결도 ##\n",
      "  춘천 서울 속초 대전 광주 부산 \n",
      "춘천 0 10 0 0 0 0 \n",
      "서울 10 0 0 11 0 0 \n",
      "속초 0 0 0 12 0 0 \n",
      "대전 0 11 12 0 20 0 \n",
      "광주 0 0 0 20 0 25 \n",
      "부산 0 0 0 0 25 0 \n",
      "\n"
     ]
    }
   ],
   "source": [
    "## 클래스와 함수 선언 부분 ##\n",
    "class Graph():\n",
    "    def __init__(self, size):\n",
    "        self.SIZE = size\n",
    "        self.graph = [[0 for _ in range(size)] for _ in range(size)]\n",
    "        \n",
    "def printGraph(g):\n",
    "    print(' ', end = ' ')\n",
    "    for v in range(g.SIZE):\n",
    "        print(nameAry[v], end = ' ')\n",
    "    print()\n",
    "    for row in range(g.SIZE):\n",
    "        print(nameAry[row], end = ' ')\n",
    "        for col in range(g.SIZE):\n",
    "            print(g.graph[row][col], end = ' ')\n",
    "        print()\n",
    "    print()\n",
    "    \n",
    "def findVertex(g, findVtx):\n",
    "    stack = []\n",
    "    visitedAry = []   # 방문한 정점\n",
    "    \n",
    "    current = 0       # 시작 정점\n",
    "    stack.append(current)\n",
    "    visitedAry.append(current)\n",
    "    \n",
    "    while (len(stack) != 0):\n",
    "        next = None\n",
    "        for vertex in range(gSize):\n",
    "            if g.graph[current][vertex] != 0:\n",
    "                if vertex in visitedAry:    # 방문한 적이 있는 정점이면 탈락\n",
    "                    pass\n",
    "                else:                       # 방문한 적이 없으면 다음 정점으로 지정\n",
    "                    next = vertex\n",
    "                    break\n",
    "          \n",
    "        \n",
    "        if next != None:                   # 다음에 방문할 정점이 있는 경우\n",
    "            current = next\n",
    "            stack.append(current)\n",
    "            visitedAry.append(current)\n",
    "        else:                              # 다음에 방문할 정점이 없는 경우\n",
    "            current = stack.pop()\n",
    "            \n",
    "    if findVtx in visitedAry:\n",
    "        return True\n",
    "    else:\n",
    "        return False\n",
    "    \n",
    "    \n",
    "## 전역 변수 선언 부분 ##\n",
    "G1 = None\n",
    "nameAry = ['춘천', '서울', '속초', '대전', '광주', '부산']\n",
    "춘천, 서울, 속초, 대전, 광주, 부산 = 0, 1, 2, 3, 4, 5\n",
    "\n",
    "\n",
    "## 메인 코드 부분 ##\n",
    "gSize = 6\n",
    "G1 = Graph(gSize)\n",
    "G1.graph[춘천][서울] = 10; G1.graph[춘천][속초] = 15;\n",
    "G1.graph[서울][춘천] = 10; G1.graph[서울][속초] = 40; G1.graph[서울][대전] = 11; G1.graph[서울][광주] = 50;\n",
    "G1.graph[속초][춘천] = 15; G1.graph[속초][서울] = 40; G1.graph[속초][대전] = 12;\n",
    "G1.graph[대전][서울] = 11; G1.graph[대전][속초] = 12; G1.graph[대전][광주] = 20; G1.graph[대전][부산] = 30;\n",
    "G1.graph[광주][서울] = 50; G1.graph[광주][대전] = 20; G1.graph[광주][부산] = 25;\n",
    "G1.graph[부산][대전] = 30; G1.graph[부산][광주] = 25;\n",
    "\n",
    "print('## 자전거 도로 건설을 위한 전체 연결도 ##')\n",
    "printGraph(G1)\n",
    "\n",
    "# 가중치 간선 목록\n",
    "edgeAry = []\n",
    "for i in range(gSize):\n",
    "    for k in range(gSize):\n",
    "        if G1.graph[i][k] != 0:\n",
    "            edgeAry.append([G1.graph[i][k], i, k])\n",
    "            \n",
    "from operator import itemgetter\n",
    "edgeAry = sorted(edgeAry, key=itemgetter(0), reverse = True)\n",
    "\n",
    "newAry = []\n",
    "for i in range(0, len(edgeAry), 2):\n",
    "    newAry.append(edgeAry[i])\n",
    "    \n",
    "index = 0\n",
    "while (len(newAry) > gSize - 1):    # 간선 개수가 '정점 개수 - 1'일 때까지 반복\n",
    "    start = newAry[index][1]\n",
    "    end = newAry[index][2]\n",
    "    saveCost = newAry[index][0]\n",
    "    \n",
    "    G1.graph[start][end] = 0\n",
    "    G1.graph[end][start] = 0\n",
    "    \n",
    "    startYN = findVertex(G1, start)\n",
    "    endYN = findVertex(G1, end)\n",
    "    \n",
    "    if startYN and endYN:\n",
    "        del(newAry[index])\n",
    "    else:\n",
    "        G1.graph[start][end] = saveCost\n",
    "        G1.graph[end][start] = saveCost\n",
    "        index += 1\n",
    "        \n",
    "print('## 최소 비용의 자전거 도로 연결도 ##')\n",
    "printGraph(G1)"
   ]
  },
  {
   "cell_type": "markdown",
   "id": "959e7fd3",
   "metadata": {},
   "source": [
    "### 9장. 연습문제 4번"
   ]
  },
  {
   "cell_type": "code",
   "execution_count": 3,
   "id": "29b21855",
   "metadata": {},
   "outputs": [
    {
     "name": "stdout",
     "output_type": "stream",
     "text": [
      "방문 순서 --> 문별 솔라 쯔위 휘인 선미 화사 "
     ]
    }
   ],
   "source": [
    "class Graph():\n",
    "    def __init__(self, size):\n",
    "        self.SIZE = size\n",
    "        self.graph = [[0 for _ in range(size)] for _ in range(size)] \n",
    "\n",
    "## 전역 변수 선언 부분 ##\n",
    "G1 = None\n",
    "nameAry = ['문별', '솔라', '휘인', '쯔위', '선미', '화사']\n",
    "문별, 솔라, 휘인, 쯔위, 선미, 화사 = 0, 1, 2, 3, 4, 5\n",
    "stack = []\n",
    "visitedAry = []\n",
    "\n",
    "\n",
    "G1 = Graph(6)\n",
    "G1.graph[문별][솔라] = 1; G1.graph[문별][휘인] = 1\n",
    "G1.graph[솔라][문별] = 1; G1.graph[솔라][쯔위] = 1\n",
    "G1.graph[휘인][문별] = 1; G1.graph[휘인][쯔위] = 1\n",
    "G1.graph[쯔위][솔라] = 1; G1.graph[쯔위][휘인] = 1; G1.graph[쯔위][선미] = 1; G1.graph[쯔위][화사] = 1\n",
    "G1.graph[선미][쯔위] = 1; G1.graph[선미][화사] = 1\n",
    "G1.graph[화사][쯔위] = 1; G1.graph[화사][선미] = 1\n",
    "\n",
    "current = 문별\n",
    "stack.append(current)\n",
    "visitedAry.append(current)\n",
    "\n",
    "while(len(stack) != 0):\n",
    "    next = None\n",
    "    for vertex in range(6):\n",
    "        if G1.graph[current][vertex] == 1:\n",
    "            if vertex in visitedAry:\n",
    "                pass\n",
    "            else:\n",
    "                next = vertex\n",
    "                break\n",
    "                \n",
    "    if next != None:\n",
    "        current = next\n",
    "        stack.append(current)\n",
    "        visitedAry.append(current)\n",
    "    else:\n",
    "        current = stack.pop()\n",
    "        \n",
    "        \n",
    "print('방문 순서 -->', end = ' ')\n",
    "for i in visitedAry:\n",
    "    print(nameAry[i], end = ' ')"
   ]
  },
  {
   "cell_type": "markdown",
   "id": "317b786f",
   "metadata": {},
   "source": [
    "### 9장. 연습문제 5번"
   ]
  },
  {
   "cell_type": "code",
   "execution_count": 4,
   "id": "96526052",
   "metadata": {},
   "outputs": [
    {
     "name": "stdout",
     "output_type": "stream",
     "text": [
      "0 1 1 1 \n",
      "1 0 1 0 \n",
      "1 1 0 1 \n",
      "1 0 1 0 \n"
     ]
    }
   ],
   "source": [
    "class Graph():\n",
    "    def __init__(self, size):\n",
    "        self.SIZE = size\n",
    "        self.graph = [[0 for _ in range(size)] for _ in range(size)]\n",
    "        \n",
    "G1, G3 = None, None\n",
    "\n",
    "G1 = Graph(4)\n",
    "G1.graph[0][1] = 1; G1.graph[0][2] = 1; G1.graph[0][3] = 1\n",
    "G1.graph[1][0] = 1; G1.graph[1][2] = 1\n",
    "G1.graph[2][0] = 1; G1.graph[2][1] = 1; G1.graph[2][3] = 1\n",
    "G1.graph[3][0] = 1; G1.graph[3][2] = 1\n",
    "\n",
    "for row in range(4):\n",
    "    for col in range(4):\n",
    "        print(G1.graph[row][col], end = ' ')\n",
    "    print()"
   ]
  },
  {
   "cell_type": "markdown",
   "id": "a44515b4",
   "metadata": {},
   "source": [
    "### 응용예제01. 허니버터칩이 가장 많이 남은 편의점 찾기"
   ]
  },
  {
   "cell_type": "code",
   "execution_count": 5,
   "id": "65db6dc6",
   "metadata": {},
   "outputs": [
    {
     "name": "stdout",
     "output_type": "stream",
     "text": [
      "## 편의점 그래프 ##\n",
      "             GS25        CU   Seven11  MiniStop   Emart24 \n",
      "     GS25        0        1        1        0        0 \n",
      "       CU        1        0        1        1        0 \n",
      "  Seven11        1        1        0        1        0 \n",
      " MiniStop        0        1        1        0        1 \n",
      "  Emart24        0        0        0        1        0 \n",
      "\n",
      "허니버터칩 최대 보유 편의점(개수) --> MiniStop ( 90 )\n"
     ]
    }
   ],
   "source": [
    "## 클래스와 함수 선언 부분 ##\n",
    "class Graph():\n",
    "    def __init__(self, size):\n",
    "        self.SIZE = size\n",
    "        self.graph = [[0 for _ in range(size)] for _ in range(size)]\n",
    "        \n",
    "def printGraph(g):\n",
    "    print('       ', end = ' ')\n",
    "    for v in range(g.SIZE):\n",
    "        print(\"%9s\" %storeAry[v][0], end = ' ')\n",
    "    print()\n",
    "    for row in range(g.SIZE):\n",
    "        print(\"%9s\" %storeAry[row][0], end = ' ')\n",
    "        for col in range(g.SIZE):\n",
    "            print(\"%8s\" %g.graph[row][col], end = ' ')\n",
    "        print()\n",
    "    print()\n",
    "    \n",
    "    \n",
    "## 전역 변수 선언 부분 ##\n",
    "G1 = None\n",
    "storeAry = [['GS25', 30], ['CU', 60], ['Seven11', 10], ['MiniStop', 90], ['Emart24', 40]]\n",
    "GS25, CU, Seven11, MiniStop, Emart24 = 0, 1, 2, 3, 4\n",
    "\n",
    "\n",
    "## 메인 코드 부분 ##\n",
    "gSize = 5\n",
    "G1 = Graph(gSize)\n",
    "G1.graph[GS25][CU] = 1; G1.graph[GS25][Seven11] = 1\n",
    "G1.graph[CU][GS25] = 1; G1.graph[CU][Seven11] = 1; G1.graph[CU][MiniStop] = 1\n",
    "G1.graph[Seven11][GS25] = 1; G1.graph[Seven11][CU] = 1; G1.graph[Seven11][MiniStop] = 1\n",
    "G1.graph[MiniStop][Seven11] = 1; G1.graph[MiniStop][CU] = 1; G1.graph[MiniStop][Emart24] = 1\n",
    "G1.graph[Emart24][MiniStop] = 1\n",
    "\n",
    "print(\"## 편의점 그래프 ##\")\n",
    "printGraph(G1)\n",
    "\n",
    "stack = []\n",
    "visitedAry = []     # 방문한 편의점\n",
    "\n",
    "current = 0         # 시작 편의점\n",
    "maxStore = current  # 최대 개수 편의점 번호(GS25)\n",
    "maxCount = storeAry[current][1]    # 편의점에 있는 허니버터 숫자\n",
    "stack.append(current)\n",
    "visitedAry.append(current)\n",
    "\n",
    "while (len(stack) != 0):\n",
    "    next = None\n",
    "    for vertex in range(gSize):\n",
    "        if G1.graph[current][vertex] == 1:\n",
    "            if vertex in visitedAry:     # 방문한 적이 있는 편의점이면 탈락\n",
    "                pass\n",
    "            else:                        # 방문한 적이 없는 편의점이면 다음 편의점으로 지정\n",
    "                next = vertex\n",
    "                break\n",
    "                \n",
    "    if next != None:     # 방문할 다음 편의점이 있는 경우\n",
    "        current = next\n",
    "        stack.append(current)\n",
    "        visitedAry.append(current)\n",
    "        if storeAry[current][1] > maxCount:\n",
    "            maxCount = storeAry[current][1]\n",
    "            maxStore = current\n",
    "    else:       # 방문할 다음 편의점이 없는 경우\n",
    "        current = stack.pop()\n",
    "        \n",
    "print('허니버터칩 최대 보유 편의점(개수) -->', storeAry[maxStore][0], '(', storeAry[maxStore][1], ')')"
   ]
  },
  {
   "cell_type": "markdown",
   "id": "9e5e72a9",
   "metadata": {},
   "source": [
    "### 응용예제02. 가장 효율적인 해저 케이블망 구성하기"
   ]
  },
  {
   "cell_type": "code",
   "execution_count": 6,
   "id": "1d73b86f",
   "metadata": {},
   "outputs": [
    {
     "name": "stdout",
     "output_type": "stream",
     "text": [
      "## 해저 케이블 연결을 위한 전체 연결도 ##\n",
      "   서울 뉴욕 런던 북경 방콕 파리 \n",
      "서울     0    80     0    10     0     0 \n",
      "뉴욕    80     0     0    40    70     0 \n",
      "런던     0     0     0     0    30    60 \n",
      "북경    10    40     0     0    50     0 \n",
      "방콕     0    70    30    50     0    20 \n",
      "파리     0     0    60     0    20     0 \n",
      "\n",
      "## 가장 효율적인 해저 케이블 연결도 ##\n",
      "   서울 뉴욕 런던 북경 방콕 파리 \n",
      "서울     0    80     0     0     0     0 \n",
      "뉴욕    80     0     0     0    70     0 \n",
      "런던     0     0     0     0    30    60 \n",
      "북경     0     0     0     0    50     0 \n",
      "방콕     0    70    30    50     0     0 \n",
      "파리     0     0    60     0     0     0 \n",
      "\n"
     ]
    }
   ],
   "source": [
    "## 클래스와 함수 선언 부분 ##\n",
    "class Graph():\n",
    "    def __init__(self, size):\n",
    "        self.SIZE = size\n",
    "        self.graph = [[0 for _ in range(size)] for _ in range(size)]\n",
    "        \n",
    "def printGraph(g):\n",
    "    print('  ', end = ' ')\n",
    "    for v in range(g.SIZE):\n",
    "        print(cityAry[v], end = ' ')\n",
    "    print()\n",
    "    for row in range(g.SIZE):\n",
    "        print(cityAry[row], end = ' ')\n",
    "        for col in range(g.SIZE):\n",
    "            print(\"%5d\" %g.graph[row][col], end = ' ')\n",
    "        print()\n",
    "    print()\n",
    "    \n",
    "def findVertex(g, findVtx):\n",
    "    stack = []\n",
    "    visitedAry = []\n",
    "    \n",
    "    current = 0\n",
    "    stack.append(current)\n",
    "    visitedAry.append(current)\n",
    "    \n",
    "    while (len(stack) != 0):\n",
    "        next = None\n",
    "        for vertex in range(gSize):\n",
    "            if g.graph[current][vertex] != 0:\n",
    "                if vertex in visitedAry:\n",
    "                    pass\n",
    "                else:\n",
    "                    next = vertex\n",
    "                    break\n",
    "                    \n",
    "        if next != None:\n",
    "            current = next\n",
    "            stack.append(current)\n",
    "            visitedAry.append(current)\n",
    "        else:\n",
    "            current = stack.pop()\n",
    "            \n",
    "    if findVtx in visitedAry:\n",
    "        return True\n",
    "    else:\n",
    "        return False\n",
    "    \n",
    "## 전역 변수 선언 부분 ##\n",
    "G1 = None\n",
    "cityAry = ['서울', '뉴욕', '런던', '북경', '방콕', '파리']\n",
    "서울, 뉴욕, 런던, 북경, 방콕, 파리 = 0, 1, 2, 3, 4, 5\n",
    "\n",
    "\n",
    "## 메인 코드 부분 ##\n",
    "gSize = 6\n",
    "G1 = Graph(gSize)\n",
    "G1.graph[서울][뉴욕] = 80; G1.graph[서울][북경] = 10\n",
    "G1.graph[뉴욕][서울] = 80; G1.graph[뉴욕][북경] = 40; G1.graph[뉴욕][방콕] = 70\n",
    "G1.graph[런던][방콕] = 30; G1.graph[런던][파리] = 60\n",
    "G1.graph[북경][서울] = 10; G1.graph[북경][뉴욕] = 40; G1.graph[북경][방콕] = 50\n",
    "G1.graph[방콕][뉴욕] = 70; G1.graph[방콕][북경] = 50; G1.graph[방콕][런던] = 30; G1.graph[방콕][파리] = 20\n",
    "G1.graph[파리][방콕] = 20; G1.graph[파리][런던] = 60;\n",
    "\n",
    "\n",
    "print('## 해저 케이블 연결을 위한 전체 연결도 ##')\n",
    "printGraph(G1)\n",
    "\n",
    "# 가중치 간선 목록\n",
    "edgeAry = []\n",
    "for i in range(gSize):\n",
    "    for k in range(gSize):\n",
    "        if G1.graph[i][k] != 0:\n",
    "            edgeAry.append([G1.graph[i][k], i, k])\n",
    "            \n",
    "from operator import itemgetter\n",
    "edgeAry = sorted(edgeAry, key = itemgetter(0), reverse = False)\n",
    "\n",
    "newAry = []\n",
    "for i in range(0, len(edgeAry), 2):\n",
    "    newAry.append(edgeAry[i])\n",
    "    \n",
    "index = 0\n",
    "while (len(newAry) > gSize - 1):     # 간선 개수가 '정점 개수-1'일 때까지 반복\n",
    "    start = newAry[index][1]\n",
    "    end = newAry[index][2]\n",
    "    saveCost = newAry[index][0]\n",
    "    \n",
    "    G1.graph[start][end] = 0\n",
    "    G1.graph[end][start] = 0\n",
    "    \n",
    "    startYN = findVertex(G1, start)\n",
    "    endYN = findVertex(G1, end)\n",
    "    \n",
    "    if startYN and endYN:\n",
    "        del(newAry[index])\n",
    "    else:\n",
    "        G1.graph[start][end] = saveCost\n",
    "        G1.graph[end][start] = saveCost\n",
    "        index += 1\n",
    "        \n",
    "print('## 가장 효율적인 해저 케이블 연결도 ##')\n",
    "printGraph(G1)"
   ]
  },
  {
   "cell_type": "markdown",
   "id": "f897d5b6",
   "metadata": {},
   "source": [
    "### Code10-02.py 재귀 호출 함수 기본(반환 조건 주차)"
   ]
  },
  {
   "cell_type": "code",
   "execution_count": 7,
   "id": "66d19efb",
   "metadata": {},
   "outputs": [
    {
     "name": "stdout",
     "output_type": "stream",
     "text": [
      "종이 상자를 엽니다. ^^\n",
      "종이 상자를 엽니다. ^^\n",
      "종이 상자를 엽니다. ^^\n",
      "종이 상자를 엽니다. ^^\n",
      "종이 상자를 엽니다. ^^\n",
      "종이 상자를 엽니다. ^^\n",
      "종이 상자를 엽니다. ^^\n",
      "종이 상자를 엽니다. ^^\n",
      "종이 상자를 엽니다. ^^\n",
      "종이 상자를 엽니다. ^^\n",
      "** 반지를 넣고 반환합니다. **\n",
      "종이 상자를 닫습니다. ^^\n",
      "종이 상자를 닫습니다. ^^\n",
      "종이 상자를 닫습니다. ^^\n",
      "종이 상자를 닫습니다. ^^\n",
      "종이 상자를 닫습니다. ^^\n",
      "종이 상자를 닫습니다. ^^\n",
      "종이 상자를 닫습니다. ^^\n",
      "종이 상자를 닫습니다. ^^\n",
      "종이 상자를 닫습니다. ^^\n"
     ]
    }
   ],
   "source": [
    "def openBox():\n",
    "    global count\n",
    "    print(\"종이 상자를 엽니다. ^^\")\n",
    "    count -= 1\n",
    "    if count == 0:\n",
    "        print(\"** 반지를 넣고 반환합니다. **\")\n",
    "        return\n",
    "    openBox()\n",
    "    print(\"종이 상자를 닫습니다. ^^\")\n",
    "    \n",
    "count = 10\n",
    "openBox()    # 처음 함수를 다시 호출"
   ]
  },
  {
   "cell_type": "markdown",
   "id": "c19fd444",
   "metadata": {},
   "source": [
    "### p. 368 반복문을 이용한 구현(숫자 합계 내기)"
   ]
  },
  {
   "cell_type": "code",
   "execution_count": 8,
   "id": "c24aeae5",
   "metadata": {},
   "outputs": [
    {
     "name": "stdout",
     "output_type": "stream",
     "text": [
      "10+9+...+1 =  55\n"
     ]
    }
   ],
   "source": [
    "sumValue = 0\n",
    "for n in range(10, 0, -1):\n",
    "    sumValue += n\n",
    "print(\"10+9+...+1 = \", sumValue)"
   ]
  },
  {
   "cell_type": "markdown",
   "id": "77afc16f",
   "metadata": {},
   "source": [
    "### Code10-03.py 10부터 1까지의 합계를 재귀 호출로 구현"
   ]
  },
  {
   "cell_type": "code",
   "execution_count": 9,
   "id": "e17c850d",
   "metadata": {},
   "outputs": [
    {
     "name": "stdout",
     "output_type": "stream",
     "text": [
      "55\n"
     ]
    }
   ],
   "source": [
    "def addNumber(num):\n",
    "    if num <= 1:\n",
    "        return 1\n",
    "    return num + addNumber(num-1)\n",
    "\n",
    "print(addNumber(10))"
   ]
  },
  {
   "cell_type": "markdown",
   "id": "cde1215b",
   "metadata": {},
   "source": [
    "### SELF STUDY 10-1"
   ]
  },
  {
   "cell_type": "code",
   "execution_count": 10,
   "id": "920a076d",
   "metadata": {},
   "outputs": [
    {
     "name": "stdout",
     "output_type": "stream",
     "text": [
      "숫자1-->1\n",
      "숫자2-->10\n",
      "55\n"
     ]
    }
   ],
   "source": [
    "def addNumber(num1, num2):\n",
    "    if num1 <= num2:\n",
    "        return 1\n",
    "    return num1 + addNumber(num1-1, num2)\n",
    "\n",
    "a = int(input(\"숫자1-->\"))\n",
    "b = int(input(\"숫자2-->\"))\n",
    "if a > b:\n",
    "    num1 = a\n",
    "    num2 = b\n",
    "if a < b:\n",
    "    num1 = b\n",
    "    num2 = a\n",
    "print(addNumber(num1,num2))"
   ]
  },
  {
   "cell_type": "markdown",
   "id": "f964d5c2",
   "metadata": {},
   "source": [
    "### p. 370 반복문을 이용한 구현(팩토리얼 구하기)"
   ]
  },
  {
   "cell_type": "code",
   "execution_count": 11,
   "id": "f067caae",
   "metadata": {},
   "outputs": [
    {
     "name": "stdout",
     "output_type": "stream",
     "text": [
      "10*9*...*1 =  3628800\n"
     ]
    }
   ],
   "source": [
    "factValue = 1   # 곱셈이므로 초깃값을 1로 설정\n",
    "for n in range(10, 0, -1):\n",
    "    factValue *= n\n",
    "print(\"10*9*...*1 = \", factValue)"
   ]
  },
  {
   "cell_type": "markdown",
   "id": "5a85c7b6",
   "metadata": {},
   "source": [
    "### Code10-04.py 5!을 재귀 호출로 구현"
   ]
  },
  {
   "cell_type": "code",
   "execution_count": 12,
   "id": "13654cd8",
   "metadata": {},
   "outputs": [
    {
     "name": "stdout",
     "output_type": "stream",
     "text": [
      "5 * 4! 호출\n",
      "4 * 3! 호출\n",
      "3 * 2! 호출\n",
      "2 * 1! 호출\n",
      "1반환\n",
      "2 * 1!(=1) 반환\n",
      "3 * 2!(=2) 반환\n",
      "4 * 3!(=6) 반환\n",
      "5 * 4!(=24) 반환\n",
      "\n",
      "5! =  120\n"
     ]
    }
   ],
   "source": [
    "def factorial(num):\n",
    "    if num <= 1:\n",
    "        print('1반환')\n",
    "        return 1\n",
    "    print(\"%d * %d! 호출\" %(num, num-1))\n",
    "    retVal = factorial(num-1)\n",
    "    \n",
    "    print(\"%d * %d!(=%d) 반환\" %(num, num-1, retVal))\n",
    "    return num * retVal\n",
    "\n",
    "print('\\n5! = ', factorial(5))"
   ]
  },
  {
   "cell_type": "markdown",
   "id": "9101ba8d",
   "metadata": {},
   "source": [
    "### p. 371 팩토리얼(재귀호출)"
   ]
  },
  {
   "cell_type": "code",
   "execution_count": 13,
   "id": "b90177af",
   "metadata": {},
   "outputs": [
    {
     "name": "stdout",
     "output_type": "stream",
     "text": [
      "\n",
      "10! =  3628800\n"
     ]
    }
   ],
   "source": [
    "def factorial(num):\n",
    "    if num <= 1:\n",
    "        return 1\n",
    "    return num * factorial(num-1)\n",
    "\n",
    "print('\\n10! = ', factorial(10))"
   ]
  }
 ],
 "metadata": {
  "kernelspec": {
   "display_name": "Python 3 (ipykernel)",
   "language": "python",
   "name": "python3"
  },
  "language_info": {
   "codemirror_mode": {
    "name": "ipython",
    "version": 3
   },
   "file_extension": ".py",
   "mimetype": "text/x-python",
   "name": "python",
   "nbconvert_exporter": "python",
   "pygments_lexer": "ipython3",
   "version": "3.9.12"
  }
 },
 "nbformat": 4,
 "nbformat_minor": 5
}
