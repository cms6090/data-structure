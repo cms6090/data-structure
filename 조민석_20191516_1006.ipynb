{
 "cells": [
  {
   "cell_type": "markdown",
   "id": "1b216918",
   "metadata": {},
   "source": [
    "# 2022년 10월 6일 파이썬 실습 6주차-1\n",
    "# 학번 : 20191516\n",
    "# 이름 : 조민석"
   ]
  },
  {
   "cell_type": "markdown",
   "id": "e5031b38",
   "metadata": {},
   "source": [
    "### Code06-01.py 크기가 5칸인 스택의 생성과 데이터 3개 입력"
   ]
  },
  {
   "cell_type": "code",
   "execution_count": 1,
   "id": "0c8f92bf",
   "metadata": {
    "scrolled": true
   },
   "outputs": [
    {
     "name": "stdout",
     "output_type": "stream",
     "text": [
      "----- 스택 상태 -----\n",
      "None\n",
      "None\n",
      "꿀물\n",
      "녹차\n",
      "커피\n"
     ]
    }
   ],
   "source": [
    "stack = [None, None, None, None, None]\n",
    "top = -1\n",
    "\n",
    "top += 1\n",
    "stack[top] = \"커피\"\n",
    "top += 1\n",
    "stack[top] = \"녹차\"\n",
    "top += 1\n",
    "stack[top] = \"꿀물\"\n",
    "\n",
    "print(\"----- 스택 상태 -----\")\n",
    "for i in range(len(stack)-1, -1, -1):\n",
    "    print(stack[i])"
   ]
  },
  {
   "cell_type": "markdown",
   "id": "db4ca6b8",
   "metadata": {},
   "source": [
    "### Code06-02.py 스택에서 데이터 3개 추출"
   ]
  },
  {
   "cell_type": "code",
   "execution_count": 2,
   "id": "4d4be2d3",
   "metadata": {},
   "outputs": [
    {
     "name": "stdout",
     "output_type": "stream",
     "text": [
      "----- 스택 상태 -----\n",
      "None\n",
      "None\n",
      "꿀물\n",
      "녹차\n",
      "커피\n",
      "---------------------\n",
      "pop --> 꿀물\n",
      "pop --> 녹차\n",
      "pop --> 커피\n",
      "---------------------\n",
      "----- 스택 상태 -----\n",
      "None\n",
      "None\n",
      "None\n",
      "None\n",
      "None\n"
     ]
    }
   ],
   "source": [
    "stack = [\"커피\", \"녹차\", \"꿀물\", None, None]\n",
    "top = 2\n",
    "\n",
    "print(\"----- 스택 상태 -----\")\n",
    "for i in range(len(stack)-1, -1, -1):\n",
    "    print(stack[i])\n",
    "    \n",
    "print(\"---------------------\")\n",
    "data = stack[top]\n",
    "stack[top] = None\n",
    "top -= 1\n",
    "print(\"pop -->\", data)\n",
    "\n",
    "data = stack[top]\n",
    "stack[top] = None\n",
    "top -= 1\n",
    "print(\"pop -->\", data)\n",
    "\n",
    "data = stack[top]\n",
    "stack[top] = None\n",
    "top -= 1\n",
    "print(\"pop -->\", data)\n",
    "print(\"---------------------\")\n",
    "\n",
    "print(\"----- 스택 상태 -----\")\n",
    "for i in range(len(stack)-1, -1, -1):\n",
    "    print(stack[i])"
   ]
  },
  {
   "cell_type": "markdown",
   "id": "33639f5f",
   "metadata": {},
   "source": [
    "### Code06-03.py 스택이 꽉 찼는지 확인하는 함수"
   ]
  },
  {
   "cell_type": "code",
   "execution_count": 3,
   "id": "71ff6a02",
   "metadata": {},
   "outputs": [
    {
     "name": "stdout",
     "output_type": "stream",
     "text": [
      "스택이 꽉 찼는지 여부 ==> True\n"
     ]
    }
   ],
   "source": [
    "def isStackFull():\n",
    "    global SIZE, stack, top\n",
    "    if (top >= SIZE - 1):\n",
    "        return True\n",
    "    else:\n",
    "        return False\n",
    "    \n",
    "SIZE = 5\n",
    "stack = [\"커피\", \"녹차\", \"꿀물\", \"콜라\", \"환타\"]\n",
    "top = 4\n",
    "\n",
    "print(\"스택이 꽉 찼는지 여부 ==>\", isStackFull())"
   ]
  },
  {
   "cell_type": "markdown",
   "id": "71a9663a",
   "metadata": {},
   "source": [
    "### Code06-04.py 스택에 데이터를 삽입하는 함수"
   ]
  },
  {
   "cell_type": "code",
   "execution_count": 4,
   "id": "693c0ebc",
   "metadata": {},
   "outputs": [
    {
     "name": "stdout",
     "output_type": "stream",
     "text": [
      "['커피', '녹차', '꿀물', '콜라', None]\n",
      "['커피', '녹차', '꿀물', '콜라', '환타']\n",
      "스택이 꽉 찼습니다.\n"
     ]
    }
   ],
   "source": [
    "def isStackFull():\n",
    "    global SIZE, stack, top\n",
    "    if (top >= SIZE - 1):\n",
    "        return True\n",
    "    else:\n",
    "        return False\n",
    "    \n",
    "def push(data) :\n",
    "    global SIZE, stack, top\n",
    "    if (isStackFull()) :\n",
    "        print(\"스택이 꽉 찼습니다.\")\n",
    "        return\n",
    "    top += 1\n",
    "    stack[top] = data\n",
    "    \n",
    "SIZE = 5\n",
    "stack = [\"커피\", \"녹차\", \"꿀물\", \"콜라\", None]\n",
    "top = 3\n",
    "\n",
    "print(stack)\n",
    "push(\"환타\")\n",
    "print(stack)\n",
    "push(\"게토레이\")"
   ]
  },
  {
   "cell_type": "markdown",
   "id": "f4fb2261",
   "metadata": {},
   "source": [
    "### SELF STUDY 6-1"
   ]
  },
  {
   "cell_type": "code",
   "execution_count": 5,
   "id": "b2635856",
   "metadata": {},
   "outputs": [
    {
     "name": "stdout",
     "output_type": "stream",
     "text": [
      "['커피', '녹차', '꿀물', '콜라', None]\n",
      "['커피', '녹차', '꿀물', '콜라', '환타']\n",
      "스택이 꽉 찼습니다.\n"
     ]
    }
   ],
   "source": [
    "def push(data) :\n",
    "    global SIZE, stack, top\n",
    "    if (top >= SIZE - 1) :\n",
    "        print(\"스택이 꽉 찼습니다.\")\n",
    "        return\n",
    "    top += 1\n",
    "    stack[top] = data\n",
    "    \n",
    "SIZE = 5\n",
    "stack = [\"커피\", \"녹차\", \"꿀물\", \"콜라\", None]\n",
    "top = 3\n",
    "\n",
    "print(stack)\n",
    "push(\"환타\")\n",
    "print(stack)\n",
    "push(\"게토레이\")"
   ]
  },
  {
   "cell_type": "markdown",
   "id": "a562eaa6",
   "metadata": {},
   "source": [
    "### Cody06-05.py 스택이 비었는지 확인하는 함수"
   ]
  },
  {
   "cell_type": "code",
   "execution_count": 6,
   "id": "9ab8d365",
   "metadata": {},
   "outputs": [
    {
     "name": "stdout",
     "output_type": "stream",
     "text": [
      "스택이 비었는지 여부 ==> False\n"
     ]
    }
   ],
   "source": [
    "def isStackEmpty():\n",
    "    global SIZE, stack, top\n",
    "    if (top == -1) :\n",
    "        return True\n",
    "    else:\n",
    "        return False\n",
    "\n",
    "SIZE = 5\n",
    "stack = [None for _ in range(SIZE)]\n",
    "top -= 1\n",
    "\n",
    "print(\"스택이 비었는지 여부 ==>\", isStackEmpty())"
   ]
  },
  {
   "cell_type": "markdown",
   "id": "4c4b8ad4",
   "metadata": {},
   "source": [
    "### Cody06-06.py 스택에서 데이터를 추출하는 함수"
   ]
  },
  {
   "cell_type": "code",
   "execution_count": 7,
   "id": "76f94bae",
   "metadata": {},
   "outputs": [
    {
     "name": "stdout",
     "output_type": "stream",
     "text": [
      "['커피', None, None, None, None]\n",
      "추출한 데이터 --> 커피\n",
      "[None, None, None, None, None]\n",
      "스택이 비었습니다.\n"
     ]
    }
   ],
   "source": [
    "def isStackEmpty():\n",
    "    global SIZE, stack, top\n",
    "    if (top == -1) :\n",
    "        return True\n",
    "    else:\n",
    "        return False\n",
    "    \n",
    "def pop():\n",
    "    global SIZE, stack, top\n",
    "    if (isStackEmpty()):\n",
    "        print(\"스택이 비었습니다.\")\n",
    "        return None\n",
    "    data = stack[top]\n",
    "    stack[top] = None\n",
    "    top -= 1\n",
    "    return data\n",
    "\n",
    "SIZE = 5\n",
    "stack = [\"커피\", None, None, None, None]\n",
    "top = 0\n",
    "\n",
    "print(stack)\n",
    "retData = pop()\n",
    "print(\"추출한 데이터 -->\", retData)\n",
    "print(stack)\n",
    "retData = pop()"
   ]
  },
  {
   "cell_type": "markdown",
   "id": "14d3ce3d",
   "metadata": {},
   "source": [
    "### SELF STUDY 6-2"
   ]
  },
  {
   "cell_type": "code",
   "execution_count": 8,
   "id": "b781b878",
   "metadata": {},
   "outputs": [
    {
     "name": "stdout",
     "output_type": "stream",
     "text": [
      "['커피', None, None, None, None]\n",
      "추출한 데이터 --> 커피\n",
      "[None, None, None, None, None]\n",
      "스택이 비었습니다.\n"
     ]
    }
   ],
   "source": [
    "def pop():\n",
    "    global SIZE, stack, top\n",
    "    if (top == -1):\n",
    "        print(\"스택이 비었습니다.\")\n",
    "        return None\n",
    "    data = stack[top]\n",
    "    stack[top] = None\n",
    "    top -= 1\n",
    "    return data\n",
    "\n",
    "SIZE = 5\n",
    "stack = [\"커피\", None, None, None, None]\n",
    "top = 0\n",
    "\n",
    "print(stack)\n",
    "retData = pop()\n",
    "print(\"추출한 데이터 -->\", retData)\n",
    "print(stack)\n",
    "retData = pop()"
   ]
  },
  {
   "cell_type": "markdown",
   "id": "e72dfb30",
   "metadata": {},
   "source": [
    "### Code06-07.py 스택에서 top 위치의 데이터를 확인하는 함수"
   ]
  },
  {
   "cell_type": "code",
   "execution_count": 9,
   "id": "4e29af7b",
   "metadata": {},
   "outputs": [
    {
     "name": "stdout",
     "output_type": "stream",
     "text": [
      "['커피', '녹차', '꿀물', None, None]\n",
      "top의 데이터 확인 --> 꿀물\n",
      "['커피', '녹차', '꿀물', None, None]\n"
     ]
    }
   ],
   "source": [
    "def isStackEmpty():\n",
    "    global SIZE, stack, top\n",
    "    if (top == -1):\n",
    "        return True\n",
    "    else:\n",
    "        return False\n",
    "    \n",
    "def peek():\n",
    "    global SIZE, stack, top\n",
    "    if (isStackEmpty()) :\n",
    "        print(\"스택이 비었습니다.\")\n",
    "        return None\n",
    "    return stack[top]\n",
    "\n",
    "SIZE = 5\n",
    "stack = [\"커피\", \"녹차\", \"꿀물\", None, None]\n",
    "top = 2\n",
    "\n",
    "print(stack)\n",
    "retData = peek()\n",
    "print(\"top의 데이터 확인 -->\", retData)\n",
    "print(stack)"
   ]
  },
  {
   "cell_type": "markdown",
   "id": "1e51141c",
   "metadata": {},
   "source": [
    "### Code06-08.py 스택 작동을 위한 통합 코드"
   ]
  },
  {
   "cell_type": "code",
   "execution_count": 10,
   "id": "56e2ee97",
   "metadata": {},
   "outputs": [
    {
     "name": "stdout",
     "output_type": "stream",
     "text": [
      "스택 크기를 입력하세요 ==> 5\n",
      "삽입(I)/추출(E)/확인(V)/종료(X) 중 하나를 선택 ==> I\n",
      "입력할 데이터 ==> 커피\n",
      "스택 상태 :  ['커피', None, None, None, None]\n",
      "삽입(I)/추출(E)/확인(V)/종료(X) 중 하나를 선택 ==> I\n",
      "입력할 데이터 ==> 녹차\n",
      "스택 상태 :  ['커피', '녹차', None, None, None]\n",
      "삽입(I)/추출(E)/확인(V)/종료(X) 중 하나를 선택 ==> I\n",
      "입력할 데이터 ==> 꿀물\n",
      "스택 상태 :  ['커피', '녹차', '꿀물', None, None]\n",
      "삽입(I)/추출(E)/확인(V)/종료(X) 중 하나를 선택 ==> V\n",
      "확인된 데이터 ==>  꿀물\n",
      "스택 상태 :  ['커피', '녹차', '꿀물', None, None]\n",
      "삽입(I)/추출(E)/확인(V)/종료(X) 중 하나를 선택 ==> E\n",
      "추출된 데이터 ==>  꿀물\n",
      "스택 상태 :  ['커피', '녹차', None, None, None]\n",
      "삽입(I)/추출(E)/확인(V)/종료(X) 중 하나를 선택 ==> E\n",
      "추출된 데이터 ==>  녹차\n",
      "스택 상태 :  ['커피', None, None, None, None]\n",
      "삽입(I)/추출(E)/확인(V)/종료(X) 중 하나를 선택 ==> E\n",
      "추출된 데이터 ==>  커피\n",
      "스택 상태 :  [None, None, None, None, None]\n",
      "삽입(I)/추출(E)/확인(V)/종료(X) 중 하나를 선택 ==> E\n",
      "스택이 비었습니다.\n",
      "추출된 데이터 ==>  None\n",
      "스택 상태 :  [None, None, None, None, None]\n",
      "삽입(I)/추출(E)/확인(V)/종료(X) 중 하나를 선택 ==> X\n",
      "프로그램 종료\n"
     ]
    }
   ],
   "source": [
    "## 함수 선언 부분 ##\n",
    "def isStackFull():                     # 스택이 꽉 찼는지 확인하는 함수\n",
    "    global SIZE, stack, top\n",
    "    if (top >= SIZE - 1):\n",
    "        return True\n",
    "    else:\n",
    "        return False\n",
    "    \n",
    "def isStackEmpty():                    # 스택이 비었는지 확인하는 함수\n",
    "    global SIZE, stack, top\n",
    "    if (top == -1):\n",
    "        return True\n",
    "    else:\n",
    "        return False\n",
    "    \n",
    "def push(data) :                       # 스택에 데이터를 삽입하는 함수\n",
    "    global SIZE, stack, top\n",
    "    if (isStackFull()) :\n",
    "        print(\"스택이 꽉 찼습니다.\")\n",
    "        return\n",
    "    top += 1\n",
    "    stack[top] = data\n",
    "    \n",
    "def pop():                             # 스택에서 데이터를 추출하는 함수\n",
    "    global SIZE, stack, top\n",
    "    if (isStackEmpty()):\n",
    "        print(\"스택이 비었습니다.\")\n",
    "        return None\n",
    "    data = stack[top]\n",
    "    stack[top] = None\n",
    "    top -= 1\n",
    "    return data\n",
    "\n",
    "def peek():                            # 스택에서 top 위치의 데이터를 확인하는 함수\n",
    "    global SIZE, stack, top\n",
    "    if (isStackEmpty()) :\n",
    "        print(\"스택이 비었습니다.\")\n",
    "        return None\n",
    "    return stack[top]\n",
    "\n",
    "## 전역 변수 선언 부분 ##\n",
    "SIZE = int(input(\"스택 크기를 입력하세요 ==> \"))\n",
    "stack = [None for _ in range(SIZE)]\n",
    "top = -1\n",
    "\n",
    "## 메인 코드 부분 ##\n",
    "if __name__ == \"__main__\":\n",
    "    select = input(\"삽입(I)/추출(E)/확인(V)/종료(X) 중 하나를 선택 ==> \")\n",
    "    \n",
    "    while (select != 'X' and select != 'x'):\n",
    "        if select == 'I' or select == 'i':\n",
    "            data = input(\"입력할 데이터 ==> \")\n",
    "            push(data)\n",
    "            print(\"스택 상태 : \", stack)\n",
    "        elif select == 'E' or select == 'e':\n",
    "            data = pop()\n",
    "            print(\"추출된 데이터 ==> \", data)\n",
    "            print(\"스택 상태 : \", stack)\n",
    "        elif select == 'V' or select == 'v':\n",
    "            data = peek()\n",
    "            print(\"확인된 데이터 ==> \", data)\n",
    "            print(\"스택 상태 : \", stack)\n",
    "        else:\n",
    "            print(\"입력이 잘못됨\")\n",
    "            \n",
    "        select = input(\"삽입(I)/추출(E)/확인(V)/종료(X) 중 하나를 선택 ==> \")\n",
    "    \n",
    "    print(\"프로그램 종료\")"
   ]
  }
 ],
 "metadata": {
  "kernelspec": {
   "display_name": "Python 3 (ipykernel)",
   "language": "python",
   "name": "python3"
  },
  "language_info": {
   "codemirror_mode": {
    "name": "ipython",
    "version": 3
   },
   "file_extension": ".py",
   "mimetype": "text/x-python",
   "name": "python",
   "nbconvert_exporter": "python",
   "pygments_lexer": "ipython3",
   "version": "3.9.12"
  }
 },
 "nbformat": 4,
 "nbformat_minor": 5
}
