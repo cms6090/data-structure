{
 "cells": [
  {
   "cell_type": "markdown",
   "id": "fa8304ae",
   "metadata": {},
   "source": [
    "# 2022년 11월 29일 파이썬 실습 13주차-2\n",
    "# 학번 : 20191516\n",
    "# 이름 : 조민석"
   ]
  },
  {
   "cell_type": "markdown",
   "id": "5e812797",
   "metadata": {},
   "source": [
    "### Code 10-05.py 카운트다운을 재귀 호출로 구현"
   ]
  },
  {
   "cell_type": "code",
   "execution_count": 1,
   "id": "4eb0eaf8",
   "metadata": {},
   "outputs": [
    {
     "name": "stdout",
     "output_type": "stream",
     "text": [
      "5\n",
      "4\n",
      "3\n",
      "2\n",
      "1\n",
      "발사!!\n"
     ]
    }
   ],
   "source": [
    "def countDown(n):\n",
    "    if n == 0:\n",
    "        print('발사!!')\n",
    "    else:\n",
    "        print(n)\n",
    "        countDown(n-1)\n",
    "        \n",
    "countDown(5)"
   ]
  },
  {
   "cell_type": "markdown",
   "id": "fd64db99",
   "metadata": {},
   "source": [
    "### Code 10-06.py 별 모양 출력을 재귀 호출로 구현"
   ]
  },
  {
   "cell_type": "code",
   "execution_count": 2,
   "id": "e3cd30e0",
   "metadata": {},
   "outputs": [
    {
     "name": "stdout",
     "output_type": "stream",
     "text": [
      "★\n",
      "★★\n",
      "★★★\n",
      "★★★★\n",
      "★★★★★\n"
     ]
    }
   ],
   "source": [
    "def printStar(n):\n",
    "    if n > 0:\n",
    "        printStar(n-1)\n",
    "        print('★' *n)\n",
    "        \n",
    "printStar(5)"
   ]
  },
  {
   "cell_type": "markdown",
   "id": "bbd3b569",
   "metadata": {},
   "source": [
    "### Code 10-07.py 구구단 출력을 재귀 호출로 구현"
   ]
  },
  {
   "cell_type": "code",
   "execution_count": 3,
   "id": "30ba7c67",
   "metadata": {},
   "outputs": [
    {
     "name": "stdout",
     "output_type": "stream",
     "text": [
      "## 2단 ##\n",
      "2 x 1 = 2\n",
      "2 x 2 = 4\n",
      "2 x 3 = 6\n",
      "2 x 4 = 8\n",
      "2 x 5 = 10\n",
      "2 x 6 = 12\n",
      "2 x 7 = 14\n",
      "2 x 8 = 16\n",
      "2 x 9 = 18\n",
      "## 3단 ##\n",
      "3 x 1 = 3\n",
      "3 x 2 = 6\n",
      "3 x 3 = 9\n",
      "3 x 4 = 12\n",
      "3 x 5 = 15\n",
      "3 x 6 = 18\n",
      "3 x 7 = 21\n",
      "3 x 8 = 24\n",
      "3 x 9 = 27\n",
      "## 4단 ##\n",
      "4 x 1 = 4\n",
      "4 x 2 = 8\n",
      "4 x 3 = 12\n",
      "4 x 4 = 16\n",
      "4 x 5 = 20\n",
      "4 x 6 = 24\n",
      "4 x 7 = 28\n",
      "4 x 8 = 32\n",
      "4 x 9 = 36\n",
      "## 5단 ##\n",
      "5 x 1 = 5\n",
      "5 x 2 = 10\n",
      "5 x 3 = 15\n",
      "5 x 4 = 20\n",
      "5 x 5 = 25\n",
      "5 x 6 = 30\n",
      "5 x 7 = 35\n",
      "5 x 8 = 40\n",
      "5 x 9 = 45\n",
      "## 6단 ##\n",
      "6 x 1 = 6\n",
      "6 x 2 = 12\n",
      "6 x 3 = 18\n",
      "6 x 4 = 24\n",
      "6 x 5 = 30\n",
      "6 x 6 = 36\n",
      "6 x 7 = 42\n",
      "6 x 8 = 48\n",
      "6 x 9 = 54\n",
      "## 7단 ##\n",
      "7 x 1 = 7\n",
      "7 x 2 = 14\n",
      "7 x 3 = 21\n",
      "7 x 4 = 28\n",
      "7 x 5 = 35\n",
      "7 x 6 = 42\n",
      "7 x 7 = 49\n",
      "7 x 8 = 56\n",
      "7 x 9 = 63\n",
      "## 8단 ##\n",
      "8 x 1 = 8\n",
      "8 x 2 = 16\n",
      "8 x 3 = 24\n",
      "8 x 4 = 32\n",
      "8 x 5 = 40\n",
      "8 x 6 = 48\n",
      "8 x 7 = 56\n",
      "8 x 8 = 64\n",
      "8 x 9 = 72\n",
      "## 9단 ##\n",
      "9 x 1 = 9\n",
      "9 x 2 = 18\n",
      "9 x 3 = 27\n",
      "9 x 4 = 36\n",
      "9 x 5 = 45\n",
      "9 x 6 = 54\n",
      "9 x 7 = 63\n",
      "9 x 8 = 72\n",
      "9 x 9 = 81\n"
     ]
    }
   ],
   "source": [
    "def gugu(dan, num):\n",
    "    print(\"%d x %d = %d\" %(dan, num, dan*num))\n",
    "    if num < 9:\n",
    "        gugu(dan, num+1)\n",
    "        \n",
    "for dan in range(2, 10):\n",
    "    print(\"## %d단 ##\" %dan)\n",
    "    gugu(dan, 1)"
   ]
  },
  {
   "cell_type": "markdown",
   "id": "4da177de",
   "metadata": {},
   "source": [
    "### SELF STUDY 10-2"
   ]
  },
  {
   "cell_type": "code",
   "execution_count": 4,
   "id": "8fc8154d",
   "metadata": {},
   "outputs": [
    {
     "name": "stdout",
     "output_type": "stream",
     "text": [
      "2 x 1 =  2     3 x 1 =  3     4 x 1 =  4     5 x 1 =  5     6 x 1 =  6     7 x 1 =  7     8 x 1 =  8     9 x 1 =  9     \n",
      "2 x 2 =  4     3 x 2 =  6     4 x 2 =  8     5 x 2 = 10     6 x 2 = 12     7 x 2 = 14     8 x 2 = 16     9 x 2 = 18     \n",
      "2 x 3 =  6     3 x 3 =  9     4 x 3 = 12     5 x 3 = 15     6 x 3 = 18     7 x 3 = 21     8 x 3 = 24     9 x 3 = 27     \n",
      "2 x 4 =  8     3 x 4 = 12     4 x 4 = 16     5 x 4 = 20     6 x 4 = 24     7 x 4 = 28     8 x 4 = 32     9 x 4 = 36     \n",
      "2 x 5 = 10     3 x 5 = 15     4 x 5 = 20     5 x 5 = 25     6 x 5 = 30     7 x 5 = 35     8 x 5 = 40     9 x 5 = 45     \n",
      "2 x 6 = 12     3 x 6 = 18     4 x 6 = 24     5 x 6 = 30     6 x 6 = 36     7 x 6 = 42     8 x 6 = 48     9 x 6 = 54     \n",
      "2 x 7 = 14     3 x 7 = 21     4 x 7 = 28     5 x 7 = 35     6 x 7 = 42     7 x 7 = 49     8 x 7 = 56     9 x 7 = 63     \n",
      "2 x 8 = 16     3 x 8 = 24     4 x 8 = 32     5 x 8 = 40     6 x 8 = 48     7 x 8 = 56     8 x 8 = 64     9 x 8 = 72     \n",
      "2 x 9 = 18     3 x 9 = 27     4 x 9 = 36     5 x 9 = 45     6 x 9 = 54     7 x 9 = 63     8 x 9 = 72     9 x 9 = 81     \n"
     ]
    }
   ],
   "source": [
    "def gugu(dan, num):\n",
    "    print(\"%d x %d = %2d\" %(dan, num, dan*num), end = '     ')\n",
    "    if dan < 9:\n",
    "        gugu(dan+1, num)\n",
    "        \n",
    "for num in range(1, 10):\n",
    "    gugu(2, num)\n",
    "    print()"
   ]
  },
  {
   "cell_type": "markdown",
   "id": "97769dcb",
   "metadata": {},
   "source": [
    "### Code 10-08.py N제곱 계산을 재귀 호출로 구현"
   ]
  },
  {
   "cell_type": "code",
   "execution_count": 5,
   "id": "c0d78947",
   "metadata": {},
   "outputs": [
    {
     "name": "stdout",
     "output_type": "stream",
     "text": [
      "2^4\n",
      " 2*2^(4-1)\n",
      "  2*2^(3-1)\n",
      "   2*2^(2-1)\n",
      "    2*2^(1-1)\n",
      "답 --> 16\n"
     ]
    }
   ],
   "source": [
    "tab = ''\n",
    "def pow(x, n):\n",
    "    global tab\n",
    "    tab += ' '\n",
    "    if n == 0:\n",
    "        return 1\n",
    "    print(tab + \"%d*%d^(%d-%d)\" %(x, x, n, 1))\n",
    "    return x * pow(x, n-1)\n",
    "\n",
    "print('2^4')\n",
    "print('답 -->', pow(2, 4))"
   ]
  },
  {
   "cell_type": "markdown",
   "id": "0d51d5ce",
   "metadata": {},
   "source": [
    "### Code 10-09.py 배열의 합계를 재귀 호출로 구현(실행 결과는 실행할 때마다 다름)"
   ]
  },
  {
   "cell_type": "code",
   "execution_count": 6,
   "id": "ea2140fd",
   "metadata": {},
   "outputs": [
    {
     "name": "stdout",
     "output_type": "stream",
     "text": [
      "[104, 54, 146, 59, 70, 12, 16, 71, 153, 175, 179, 191, 55, 233, 163, 139, 133]\n",
      "배열 합게 -->  1953\n"
     ]
    }
   ],
   "source": [
    "import random\n",
    "\n",
    "def arySum(arr, n):\n",
    "    if n <= 0:\n",
    "        return arr[0]\n",
    "    return arySum(arr,n-1) + arr[n]\n",
    "\n",
    "ary = [random.randint(0,255) for _ in range (random.randint(10,20))]\n",
    "print(ary)\n",
    "print(\"배열 합게 --> \", arySum(ary, len(ary)-1))"
   ]
  },
  {
   "cell_type": "markdown",
   "id": "86571784",
   "metadata": {},
   "source": [
    "### Code 10-10.py 피보나치 수를 재귀 호출로 구현"
   ]
  },
  {
   "cell_type": "code",
   "execution_count": 7,
   "id": "219f06d1",
   "metadata": {},
   "outputs": [
    {
     "name": "stdout",
     "output_type": "stream",
     "text": [
      "피보나치 수 --> 0 1 1 2 3 5 8 13 21 34 55 89 144 233 377 610 987 1597 2584 4181 "
     ]
    }
   ],
   "source": [
    "def fibo(n):\n",
    "    if n == 0:\n",
    "        return 0\n",
    "    elif n == 1:\n",
    "        return 1\n",
    "    else:\n",
    "        return fibo(n-1) + fibo(n-2)\n",
    "    \n",
    "print('피보나치 수 --> 0 1', end = ' ')\n",
    "for i in range(2, 20):\n",
    "    print(fibo(i), end = ' ')"
   ]
  },
  {
   "cell_type": "markdown",
   "id": "51912b76",
   "metadata": {},
   "source": [
    "### Code 10-11.py 회문 여부를 구현하기"
   ]
  },
  {
   "cell_type": "code",
   "execution_count": 8,
   "id": "c9fe03d3",
   "metadata": {},
   "outputs": [
    {
     "name": "stdout",
     "output_type": "stream",
     "text": [
      "reaver--> X\n",
      "kayak--> O\n",
      "Borrow or rob--> O\n",
      "주유소와 소유주--> O\n",
      "야 너 이번 주 주번이 너야--> O\n",
      "살금 살금--> X\n"
     ]
    }
   ],
   "source": [
    "## 클래스아 함수 선언 부분 ##\n",
    "def palindrome(pStr):\n",
    "    if len(pStr) <= 1:\n",
    "        return True\n",
    "    \n",
    "    if pStr[0] != pStr[-1]:\n",
    "        return False\n",
    "    \n",
    "    return palindrome(pStr[1:len(pStr)-1])\n",
    "\n",
    "\n",
    "## 전역 변수 선언 부분 ##\n",
    "strAry = [\"reaver\", \"kayak\", \"Borrow or rob\", \"주유소와 소유주\", \"야 너 이번 주 주번이 너야\", \"살금 살금\"]\n",
    "\n",
    "## 메인 코드 부분 ##\n",
    "for testStr in strAry:\n",
    "    print(testStr, end = '--> ')\n",
    "    testStr = testStr.lower().replace(' ', '')\n",
    "    if palindrome(testStr):\n",
    "        print('O')\n",
    "    else:\n",
    "        print('X')"
   ]
  },
  {
   "cell_type": "markdown",
   "id": "309182b4",
   "metadata": {},
   "source": [
    "### Code 10-12.py 간단한 원을 그리는 GUI 프로그래밍"
   ]
  },
  {
   "cell_type": "code",
   "execution_count": 9,
   "id": "ff36b71c",
   "metadata": {},
   "outputs": [],
   "source": [
    "from tkinter import *\n",
    "\n",
    "window = Tk()\n",
    "canvas = Canvas(window, height = 1000, width = 1000, bg = 'white')\n",
    "canvas.pack()\n",
    "\n",
    "cx = 1000 // 2\n",
    "cy = 1000 // 2\n",
    "r = 400\n",
    "canvas.create_oval(cx-r, cy-r, cx+r, cy+r, width=2, outline = 'red')\n",
    "\n",
    "window.mainloop()"
   ]
  },
  {
   "cell_type": "markdown",
   "id": "040ec50b",
   "metadata": {},
   "source": [
    "## tkinter\n",
    "mainloop : 키보드나 마우스 혹은 화면 Redraw와 같은 다양한 이벤트로부터 오는 메시지를 받고 전달하는 역할  \n",
    "place : 위젯의 위치를 절대 좌표로 정하는 것  \n",
    "pack : 위젯들을 부모 위젯에 모두 패킹하여 불필요한 공간을 없앰  \n",
    "grid : 위젯들을 테이블 레이아웃에 배치하는 것, 지정된 row, column에 위젯 위치  \n",
    "ListBox: 블로그 목록처럼 정해진 순서가 있는 여러 개의 데이터를 표시  \n",
    "Label : '제목'이라는 라벨을 표시  \n",
    "Entry : 텍스트를 입력하거나 보여주고자 사용  \n",
    "Text : 여러 줄의 문자열을 처리할 수 있음  \n",
    "Button : 클릭했을 때 특정 함수를 실행  "
   ]
  }
 ],
 "metadata": {
  "kernelspec": {
   "display_name": "Python 3 (ipykernel)",
   "language": "python",
   "name": "python3"
  },
  "language_info": {
   "codemirror_mode": {
    "name": "ipython",
    "version": 3
   },
   "file_extension": ".py",
   "mimetype": "text/x-python",
   "name": "python",
   "nbconvert_exporter": "python",
   "pygments_lexer": "ipython3",
   "version": "3.9.12"
  }
 },
 "nbformat": 4,
 "nbformat_minor": 5
}
