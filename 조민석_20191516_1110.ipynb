{
 "cells": [
  {
   "cell_type": "markdown",
   "id": "1b216918",
   "metadata": {},
   "source": [
    "# 2022년 11월 10일 파이썬 실습 11주차-1\n",
    "# 학번 : 20191516\n",
    "# 이름 : 조민석"
   ]
  },
  {
   "cell_type": "markdown",
   "id": "c6ef840c",
   "metadata": {},
   "source": [
    "### 응용예제01. 편의점에서 판매된 물건 목록 출력하기"
   ]
  },
  {
   "cell_type": "code",
   "execution_count": 1,
   "id": "9aa59b25",
   "metadata": {},
   "outputs": [
    {
     "name": "stdout",
     "output_type": "stream",
     "text": [
      "오늘 판매된 물건(중복O) --> ['삼다수', '츄파춥스', '츄파춥스', '츄파춥스', '도시락', '바나나맛우유', '츄파춥스', '삼각김밥', '츄파춥스', '삼각김밥', '도시락', '코카콜라', '도시락', '삼각김밥', '삼다수', '츄파춥스', '삼각김밥', '코카콜라', '삼다수', '바나나맛우유']\n",
      "이진 탐색 트리 구성 완료!\n",
      "오늘 판매된 종류(중복X)-->  삼다수 도시락 바나나맛우유 삼각김밥 츄파춥스 코카콜라 "
     ]
    }
   ],
   "source": [
    "import random\n",
    "## 함수 선언 부분 ##\n",
    "class TreeNode():\n",
    "    def __init__(self):\n",
    "        self.left = None\n",
    "        self.data = None\n",
    "        self.right = None\n",
    "        \n",
    "## 전역 변수 선언 부분 ##\n",
    "memory = []\n",
    "root = None\n",
    "dataAry = ['바나나맛우유', '레쓰비캔커피', '츄파춥스', '도시락', '삼다수', '코카콜라', '삼각김밥']\n",
    "sellAry = [random.choice(dataAry) for _ in range(20)]\n",
    "\n",
    "print('오늘 판매된 물건(중복O) -->', sellAry)\n",
    "\n",
    "## 메인 코드 부분 ##\n",
    "node = TreeNode()\n",
    "node.data = sellAry[0]\n",
    "root = node\n",
    "memory.append(node)\n",
    "\n",
    "for name in sellAry[1:]:\n",
    "    \n",
    "    node = TreeNode()\n",
    "    node.data = name\n",
    "    \n",
    "    current = root\n",
    "    while True:\n",
    "        if name == current.data:\n",
    "            break\n",
    "        if name < current.data:\n",
    "            if current.left == None:\n",
    "                current.left = node\n",
    "                memory.append(node)\n",
    "                break\n",
    "            current = current.left\n",
    "        else:\n",
    "            if current.right == None:\n",
    "                current.right = node\n",
    "                memory.append(node)\n",
    "                break\n",
    "            current = current.right\n",
    "            \n",
    "print('이진 탐색 트리 구성 완료!')\n",
    "\n",
    "def preorder(node):\n",
    "    if node == None:\n",
    "        return\n",
    "    print(node.data, end = ' ')\n",
    "    preorder(node.left)\n",
    "    preorder(node.right)\n",
    "    \n",
    "print('오늘 판매된 종류(중복X)--> ', end = ' ')\n",
    "preorder(root)"
   ]
  },
  {
   "cell_type": "markdown",
   "id": "33084b5b",
   "metadata": {},
   "source": [
    "### 응용예제02. 폴더 및 하위 폴더에 중복된 파일 이름 찾기"
   ]
  },
  {
   "cell_type": "code",
   "execution_count": 2,
   "id": "06fbf9c4",
   "metadata": {},
   "outputs": [
    {
     "name": "stdout",
     "output_type": "stream",
     "text": [
      "C:/Program Files/Common Files/ 및 그 하위 디렉터리의 중복된 파일 목록 -->\n",
      "['mshwLatin.dll.mui', 'TabTip.exe.mui', 'msdaremr.dll.mui', 'VSTOInstallerUI.dll', 'wab32res.dll.mui', 'msadcer.dll.mui', 'msdasqlr.dll.mui', 'msinfo32.exe.mui', 'tipresx.dll.mui', 'pdmui.dll', 'InputPersonalization.exe.mui', 'msaddsr.dll.mui', 'tabskb.dll.mui', 'msadcor.dll.mui', 'rtscom.dll.mui', 'ShapeCollector.exe.mui', 'TipRes.dll.mui', 'VSTOLoaderUI.dll', 'sqloledb.rll.mui', 'sqlxmlx.rll.mui', 'TipTsf.dll.mui', 'oledb32r.dll.mui', 'msader15.dll.mui', 'InkObj.dll.mui', 'msdaprsr.dll.mui']\n"
     ]
    }
   ],
   "source": [
    "import os\n",
    "## 함수 선언 부분 ##\n",
    "class TreeNode():\n",
    "    def __init__(self):\n",
    "        self.left = None\n",
    "        self.data = None\n",
    "        self.right = None\n",
    "        \n",
    "## 전역 변수 선언 부분 ##\n",
    "memory = []\n",
    "root = None\n",
    "fnameAry = []\n",
    "\n",
    "## 메인 코드 부분 ##\n",
    "folderName = 'C:/Program Files/Common Files/'\n",
    "for dirName, subDirList, fnames in os.walk(folderName):\n",
    "    for fname in fnames:\n",
    "        fnameAry.append(fname)\n",
    "        \n",
    "node = TreeNode()\n",
    "node.data = fnameAry[0]\n",
    "root = node\n",
    "memory.append(node)\n",
    "\n",
    "dupNameAry = []\n",
    "\n",
    "for name in fnameAry[1:]:\n",
    "    \n",
    "    node = TreeNode()\n",
    "    node.data = name\n",
    "    \n",
    "    current = root\n",
    "    while True:\n",
    "        if name == current.data:\n",
    "            dupNameAry.append(name)\n",
    "            break\n",
    "        if name < current.data:\n",
    "            if current.left == None:\n",
    "                current.left = node\n",
    "                memory.append(node)\n",
    "                break\n",
    "            current = current.left\n",
    "        else:\n",
    "            if current.right == None:\n",
    "                current.right = node\n",
    "                memory.append(node)\n",
    "                break\n",
    "            current = current.right\n",
    "            \n",
    "dupNameAry = list(set(dupNameAry))\n",
    "\n",
    "print(folderName, '및 그 하위 디렉터리의 중복된 파일 목록 -->')\n",
    "print(dupNameAry)"
   ]
  },
  {
   "cell_type": "markdown",
   "id": "1a13b050",
   "metadata": {},
   "source": [
    "## os 모듈 사용법"
   ]
  },
  {
   "cell_type": "markdown",
   "id": "2cd0a5a7",
   "metadata": {},
   "source": [
    "### 이름 : os.walk()\n",
    "#### 기능 : 파일이나 디렉토리의 목록을 얻기 위한 모듈"
   ]
  },
  {
   "cell_type": "code",
   "execution_count": 3,
   "id": "6fdcd665",
   "metadata": {},
   "outputs": [
    {
     "name": "stdout",
     "output_type": "stream",
     "text": [
      "C:/test\\dirA\\a-1.txt\n",
      "C:/test\\dirA\\a-2.txt\n",
      "C:/test\\dirA\\dirC\\c-1.txt\n",
      "C:/test\\dirB\\B-1.txt\n",
      "C:/test\\dirB\\B-2.txt\n"
     ]
    }
   ],
   "source": [
    "import os\n",
    "\n",
    "for curDir, dirs, files in os.walk(\"C:/test\"):\n",
    "    for f in files:\n",
    "        print(os.path.join(curDir,f))"
   ]
  },
  {
   "cell_type": "markdown",
   "id": "8d229719",
   "metadata": {},
   "source": [
    "### 이름 : os.listdir()\n",
    "#### 기능 : 파일이나 디렉터리의 목록을 확인하기 위해 사용"
   ]
  },
  {
   "cell_type": "code",
   "execution_count": 4,
   "id": "d391d933",
   "metadata": {},
   "outputs": [
    {
     "name": "stdout",
     "output_type": "stream",
     "text": [
      "['sample.txt', 'sample1.txt', 'sample2.txt', 'sample3.txt', 'sample_00.txt', 'subdir1', 'subdir2']\n"
     ]
    }
   ],
   "source": [
    "import os\n",
    "\n",
    "path = 'C:/dir'\n",
    "\n",
    "flist = os.listdir(path)\n",
    "print(flist)"
   ]
  },
  {
   "cell_type": "markdown",
   "id": "1d6efe26",
   "metadata": {},
   "source": [
    "### 이름 : os.path()\n",
    "#### 기능 : exists() : 파일 및 디렉토리의 존재 확인\n",
    "#### isdir() : 디렉토리의 존재여부 확인\n",
    "#### isfile() : 파일의 존재여부 확인\n",
    "#### basename() : 지정된 경로의 파일명 리턴\n",
    "#### dirname() : 지정된 경로로부터 파일명을 제외한 것을 리턴\n",
    "#### split() : 지정된 경로의 파일명과 그 경로를 리턴\n",
    "#### splitext() : 지정된 파일의 확장자와 확장을 제외한 파일명까지의 경로를 리턴\n",
    "#### join() : 경로와 파일명 등을 결합"
   ]
  },
  {
   "cell_type": "code",
   "execution_count": 5,
   "id": "e8cc12bc",
   "metadata": {},
   "outputs": [
    {
     "name": "stdout",
     "output_type": "stream",
     "text": [
      "True\n"
     ]
    }
   ],
   "source": [
    "import os\n",
    "path = 'C:/dir'\n",
    "print(os.path.exists(path))"
   ]
  },
  {
   "cell_type": "markdown",
   "id": "b09fc0c0",
   "metadata": {},
   "source": [
    "### 이름 : os.environ()\n",
    "#### 기능 : 환경변수를 취득하거나, 읽어들이거나 쓰기 위해 사용"
   ]
  },
  {
   "cell_type": "code",
   "execution_count": 6,
   "id": "9a5148bc",
   "metadata": {},
   "outputs": [
    {
     "name": "stdout",
     "output_type": "stream",
     "text": [
      "env(): staging\n"
     ]
    }
   ],
   "source": [
    "import os\n",
    "os.environ[\"PHASE\"] = \"staging\"\n",
    "print(\"env(): \" + os.environ[\"PHASE\"])"
   ]
  },
  {
   "cell_type": "markdown",
   "id": "a6ffaa6b",
   "metadata": {},
   "source": [
    "### 이름 : os.mkdir()\n",
    "#### 기능 : 간단한 디렉터리 작성"
   ]
  },
  {
   "cell_type": "code",
   "execution_count": 7,
   "id": "031ebc16",
   "metadata": {},
   "outputs": [],
   "source": [
    "import os\n",
    "path = 'C:/dir/sub'\n",
    "os.mkdir(path)"
   ]
  },
  {
   "cell_type": "markdown",
   "id": "4990af40",
   "metadata": {},
   "source": [
    "### 이름 : os.rename()\n",
    "#### 기능 : 지정한 파일명을 변경할 때 사용  "
   ]
  },
  {
   "cell_type": "code",
   "execution_count": 8,
   "id": "3cdfa388",
   "metadata": {},
   "outputs": [
    {
     "name": "stdout",
     "output_type": "stream",
     "text": [
      "True\n"
     ]
    }
   ],
   "source": [
    "import os\n",
    "path1 = 'C:/dir/sample_00.txt'\n",
    "path2 = 'C:/dir/sample_01.txt'\n",
    "os.rename(path1, path2)   #sample_00의 파일이름을 sample_01로 바꿈\n",
    "\n",
    "print(os.path.exists(path2))"
   ]
  },
  {
   "cell_type": "markdown",
   "id": "2e76e8a1",
   "metadata": {},
   "source": [
    "### 이름 : os.remove()\n",
    "#### 기능 : 파일을 삭제하기 위해 사용"
   ]
  },
  {
   "cell_type": "code",
   "execution_count": 9,
   "id": "af07e22c",
   "metadata": {},
   "outputs": [
    {
     "name": "stdout",
     "output_type": "stream",
     "text": [
      "False\n"
     ]
    }
   ],
   "source": [
    "import os\n",
    "path = 'C:/dir/sample.txt'\n",
    "\n",
    "os.remove(path)    #sample.txt 파일을 삭제\n",
    "print(os.path.exists(path))"
   ]
  },
  {
   "cell_type": "markdown",
   "id": "3b91bddc",
   "metadata": {},
   "source": [
    "## 연습문제\n",
    "### 1. 1:루트, 2:레벨, 3:노드, 4:에지\n",
    "### 6. 전위 : 화사 -> 솔라 -> 휘인 -> 쯔위 -> 문별 -> 선미\n",
    "### 중위 : 휘인 -> 솔라 -> 쯔위 -> 화사 -> 선미 -> 문별\n",
    "### 후위 : 휘인 -> 쯔위 -> 솔라 -> 선미 -> 문별 -> 화사\n",
    "### 9. 1: name < current.data, 2: current = current.left, 3:current = current.right\n",
    "### 10. 3"
   ]
  }
 ],
 "metadata": {
  "kernelspec": {
   "display_name": "Python 3 (ipykernel)",
   "language": "python",
   "name": "python3"
  },
  "language_info": {
   "codemirror_mode": {
    "name": "ipython",
    "version": 3
   },
   "file_extension": ".py",
   "mimetype": "text/x-python",
   "name": "python",
   "nbconvert_exporter": "python",
   "pygments_lexer": "ipython3",
   "version": "3.9.12"
  }
 },
 "nbformat": 4,
 "nbformat_minor": 5
}
